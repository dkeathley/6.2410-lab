{
 "cells": [
  {
   "cell_type": "markdown",
   "id": "glYBmb6VwOSN",
   "metadata": {
    "id": "glYBmb6VwOSN",
    "tags": [
     "remove-cell"
    ]
   },
   "source": [
    "# Latex Headers\n",
    "\n",
    " - Ensure proper support for certain latex notation\n",
    " - Code below\n",
    "\n",
    "$$\\newcommand{\\ket}[1]{\\left|{#1}\\right\\rangle}$$\n",
    "$$\\newcommand{\\bra}[1]{\\left\\langle{#1}\\right|}$$\n",
    "$$\\newcommand{\\braket}[2]{\\left\\langle{#1}\\middle|{#2}\\right\\rangle}$$\n",
    "$$\\newcommand{\\adagger}[0]{\\hat{a}^{\\dagger}}$$\n",
    "$$\\newcommand{\\ahat}[0]{\\hat{a}}$$\n",
    "$$\\newcommand{\\bdagger}[0]{\\hat{b}^{\\dagger}}$$\n",
    "$$\\newcommand{\\bhat}[0]{\\hat{b}}$$\n",
    "$$\\newcommand{\\cdagger}[0]{\\hat{c}^{\\dagger}}$$\n",
    "$$\\newcommand{\\chat}[0]{\\hat{c}}$$\n",
    "$$\\newcommand{\\ddagger}[0]{\\hat{d}^{\\dagger}}$$\n",
    "$$\\newcommand{\\dhat}[0]{\\hat{d}}$$\n",
    "$$\\newcommand{\\edagger}[0]{\\hat{e}^{\\dagger}}$$\n",
    "$$\\newcommand{\\ehat}[0]{\\hat{e}}$$\n",
    "$$\\newcommand{\\fdagger}[0]{\\hat{f}^{\\dagger}}$$\n",
    "$$\\newcommand{\\fhat}[0]{\\hat{f}}$$\n",
    "$$\\newcommand{\\gdagger}[0]{\\hat{g}^{\\dagger}}$$\n",
    "$$\\newcommand{\\ghat}[0]{\\hat{g}}$$\n",
    "$$\\newcommand{\\hdagger}[0]{\\hat{h}^{\\dagger}}$$\n",
    "$$\\newcommand{\\hhat}[0]{\\hat{h}}$$"
   ]
  },
  {
   "cell_type": "markdown",
   "id": "bcdff4e6-8251-4c63-9061-40ac42497a11",
   "metadata": {
    "id": "bcdff4e6-8251-4c63-9061-40ac42497a11"
   },
   "source": [
    "# Final Design Project\n",
    "\n",
    "On this space we will provide written guidelines for the final design project assignment.  The final design project will consist of three phases: (1) a proposal phase; (2) a work phase; and (3) a reporting phase.  The final report will consist of a final written report as well as a final presentation.\n",
    "\n",
    "As the proposal and project phases conclude, we will share links here to all final proposals, reports, and presentations.\n",
    "\n",
    "## Project Proposals\n",
    "\n",
    "### Written Guidelines\n",
    "\n",
    "Please see written guidelines for the project proposals [here (Google Doc)](https://docs.google.com/document/d/1ftvYF-KIGi2gkzeMgGQJRtE252eFyHcWcFFTZP-jn3M/edit#).  In the document you will also find suggested topics for final projects that we will discuss in class.\n",
    "\n",
    "### Proposal Development Slides with Suggested Topics\n",
    "\n",
    "Please see the slides introducing the proposal development process along with suggested topics as discussed in class [here (Google Slides)](https://docs.google.com/presentation/d/1ST1wsKs1KmI9-RUzv8aG9F8pNdpm1jXalQ1gz-MLefc/edit#slide=id.g22a3ce6831a_2_12).\n",
    "\n",
    "We will also be updating the list of suggested projects in the coming day or two, and the suggestions will be listed here on this website as well.\n",
    "\n",
    "**Your group is by no means restricted to these suggested topics.**  The key deliverable is a viable proposal that you pitch, revise, and then get approved by the instructional staff before commencing work on your final project."
   ]
  }
 ],
 "metadata": {
  "colab": {
   "collapsed_sections": [],
   "provenance": []
  },
  "jupytext": {
   "formats": "ipynb,markdown//md:myst"
  },
  "kernelspec": {
   "display_name": "Python 3 (ipykernel)",
   "language": "python",
   "name": "python3"
  },
  "language_info": {
   "codemirror_mode": {
    "name": "ipython",
    "version": 3
   },
   "file_extension": ".py",
   "mimetype": "text/x-python",
   "name": "python",
   "nbconvert_exporter": "python",
   "pygments_lexer": "ipython3",
   "version": "3.8.13"
  },
  "widgets": {
   "application/vnd.jupyter.widget-state+json": {
    "state": {},
    "version_major": 2,
    "version_minor": 0
   }
  }
 },
 "nbformat": 4,
 "nbformat_minor": 5
}
