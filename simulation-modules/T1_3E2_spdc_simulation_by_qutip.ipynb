{
 "cells": [
  {
   "cell_type": "markdown",
   "id": "a080d25b-91bb-4d00-8200-cefcfa18c94a",
   "metadata": {
    "id": "a080d25b-91bb-4d00-8200-cefcfa18c94a"
   },
   "source": [
    "# Activity 3: SPDC Simulation by QuTip\n",
    "\n",
    "Quantum optics relies on a reliable source of single photons and entangled photon pairs.  A typical source of these photons is spontaneous parametric down-conversion (SPDC) within a nonlinear crystal.  For example, all of the quantum optics experimental lab modules in this class rely on SPDC.   \n",
    "\n",
    "In this activity, we will simulate the SPDC process and the squeezed light it generates.  We will do this through the formalism of the degenerate parametric amplifier.  \n",
    "\n",
    "Specific aims of this activity are:\n",
    "\n",
    " * Enrich your understanding of the SPDC process.\n",
    " * Develop a realistic model of an SPDC source that could be further extended and used in the context of device and technology simulation and design."
   ]
  },
  {
   "cell_type": "markdown",
   "id": "IaTb_CNBPc3I",
   "metadata": {
    "id": "IaTb_CNBPc3I"
   },
   "source": [
    "## Imports and Headers\n",
    "\n",
    "Install qutip if needed and import tools for the simulations performed throughout this activity."
   ]
  },
  {
   "cell_type": "code",
   "execution_count": null,
   "id": "7a292f23-7efb-47d0-9727-52f15f9b633a",
   "metadata": {
    "colab": {
     "base_uri": "https://localhost:8080/"
    },
    "executionInfo": {
     "elapsed": 17909,
     "status": "ok",
     "timestamp": 1708518043927,
     "user": {
      "displayName": "Donnie Keathley",
      "userId": "12999748697637083576"
     },
     "user_tz": 300
    },
    "id": "7a292f23-7efb-47d0-9727-52f15f9b633a",
    "outputId": "ad9173c8-e368-436c-e326-edfbc0d12450",
    "tags": [
     "hide-output"
    ]
   },
   "outputs": [
    {
     "name": "stdout",
     "output_type": "stream",
     "text": [
      "Collecting qutip\n",
      "  Downloading qutip-4.7.5-cp310-cp310-manylinux_2_17_x86_64.manylinux2014_x86_64.whl (16.3 MB)\n",
      "\u001b[2K     \u001b[90m━━━━━━━━━━━━━━━━━━━━━━━━━━━━━━━━━━━━━━━━\u001b[0m \u001b[32m16.3/16.3 MB\u001b[0m \u001b[31m57.1 MB/s\u001b[0m eta \u001b[36m0:00:00\u001b[0m\n",
      "\u001b[?25hRequirement already satisfied: numpy>=1.16.6 in /usr/local/lib/python3.10/dist-packages (from qutip) (1.25.2)\n",
      "Requirement already satisfied: scipy>=1.0 in /usr/local/lib/python3.10/dist-packages (from qutip) (1.11.4)\n",
      "Requirement already satisfied: packaging in /usr/local/lib/python3.10/dist-packages (from qutip) (23.2)\n",
      "Installing collected packages: qutip\n",
      "Successfully installed qutip-4.7.5\n"
     ]
    },
    {
     "name": "stderr",
     "output_type": "stream",
     "text": [
      "/usr/local/lib/python3.10/dist-packages/qutip/__init__.py:66: UserWarning: The new version of Cython, (>= 3.0.0) is not supported.\n",
      "  warnings.warn(\n"
     ]
    }
   ],
   "source": [
    "#Install qutip\n",
    "!pip install qutip\n",
    "\n",
    "#Import qutip functions\n",
    "from qutip import *\n",
    "\n",
    "#Matplotlib tools for plotting\n",
    "%matplotlib inline\n",
    "import matplotlib.pyplot as plt\n",
    "from matplotlib import cm\n",
    "\n",
    "#Numpy for numerics\n",
    "import numpy as np\n",
    "from numpy import *"
   ]
  },
  {
   "cell_type": "markdown",
   "id": "c88c06b5-1063-4ca5-b19c-28de625b7edc",
   "metadata": {
    "id": "c88c06b5-1063-4ca5-b19c-28de625b7edc"
   },
   "source": [
    "(content-t1-3-E2-spdc)=\n",
    "### Operators and Hamiltonian"
   ]
  },
  {
   "cell_type": "markdown",
   "id": "b8d5615c-a678-44f7-abee-c7909616b45d",
   "metadata": {
    "id": "b8d5615c-a678-44f7-abee-c7909616b45d"
   },
   "source": [
    "If you have not read it yet, please read the introduction to how SPDC is physically generated in the [text](content-t2e1-intro-single-photons) for the T2E1 lab module.\n",
    "\n",
    "The SPDC process works by driving a nonlinear crystal with strong light at a pump frequency $\\omega_p$.  One photon of the pump light is then spontaneously converted into two photons $\\omega_s$ and $\\omega_i$, which refer to the signal and idler modes respectively.  This naming convention was developed to describe parametric amplfiers where one wanted to amplify a weak signal using a strong pump.  Energy conservation requires that this also corresponds with the growth of an idler wave, and you have that $\\omega_p = \\omega_s + \\omega_i$.  In the SPDC process we are concerned with the spontaneous generation of the signal and idler.  These occupy modes as $a$ and $b$ respectively.  \n",
    "\n",
    "The parametric amplification occurs due to a nonlinear coupling between the fields of the pump, signal, and idler waves.  The coefficient describing the strength of this coupling is the nonlinear coefficient $\\chi_2$, which is in general complex, but given freedom in choice of phase, we take it as a positive real number here.\n",
    "\n",
    "The coupling Hamiltonian for the SPDC process can be represented as\n",
    "\n",
    "$$\n",
    "\\hat{H} = i\\hbar(\\chi_2 \\hat{p}^\\dagger \\hat{a} \\hat{b} - \\chi_2 \\hat{p} \\hat{a}^\\dagger \\hat{b}^\\dagger)\\mbox{,}\n",
    "$$\n",
    "\n",
    "where $p$ represents the pump mode.  The right part describes the loss of one pump photon resulting in the increase of one photon in modes $a$ and $b$ (the signal and idler).  The left part represents back conversion from signal and idler to a pump photon.\n",
    "\n",
    "Given a strong coherent state pump, we can represent its operator with a complex number $\\alpha_p$ corresponding to its amplitude.  Doing this  we have the Hamiltonian we want to solve for this exercise as\n",
    "\n",
    "$$\n",
    "\\begin{aligned}\n",
    "\\hat{H}_{ab} = i \\hbar \\frac{\\chi}{2} (\\hat{a} \\hat{b} - \\hat{a}^{\\dagger} \\hat{b}^{\\dagger})\n",
    "\\end{aligned}\n",
    "$$\n",
    "\n",
    "where we define\n",
    "\n",
    "$$\n",
    "\\chi \\equiv 2 \\chi_2 |\\alpha_p|.\n",
    "$$\n",
    "\n",
    "Note that we use the liberty of setting the pump phase arbitrarily, and define it by the amplitude $|\\alpha_p|$.  "
   ]
  },
  {
   "cell_type": "markdown",
   "id": "vHi-WD7wnz-A",
   "metadata": {
    "id": "vHi-WD7wnz-A"
   },
   "source": [
    "## Prelab Exercises\n",
    "\n",
    " 0a. Show that $\\frac{d\\hat{a}}{dt} = -\\frac{\\chi}{2}\\hat{b}^{\\dagger}$, and  $\\frac{d\\hat{b}^{\\dagger}}{dt} = \\frac{\\chi}{2}\\hat{a}$. (Hint: use the fact that $\\frac{d\\hat{a}}{dt} = \\frac{i}{\\hbar}[\\hat{H}, \\hat{a}]$ for any operator $\\hat{a}$).\n",
    "\n",
    " 0b.  The above coupled differential equation has the solutions $\\hat{a}(T) = \\cosh (\\chi T/2) \\hat{a}(0) - \\sinh(\\chi T/2) \\hat{b}^\\dagger (0)$ and $\\hat{b}^\\dagger(T) = -\\sinh (\\chi T/2) \\hat{a}(0) + \\cosh(\\chi T/2) \\hat{b}^\\dagger (0)$ at time $T$ given the initial operators at time $0$. Derive the output photon number in $a$ and $b$ at a time $T$.  (Hints: Start with the vacuum state and apply the number operator; you should get something with $\\sinh^2$).  "
   ]
  },
  {
   "cell_type": "markdown",
   "id": "2ERQaXNUQt72",
   "metadata": {
    "id": "2ERQaXNUQt72"
   },
   "source": [
    "## Simulate Time-Dependent Problem in QuTiP\n",
    "\n",
    "In the following code we define the needed creation and annihilation operators as well as the Hamiltonian of the system to solve.  The `tensor()` function is used to create composite operators that act on the joint Hilbert space of the two modes $a$ and $b$. The `destroy()` and `num()` functions create the annihilation and number operators, respectively.\n",
    "\n",
    "Note that a difference between the following code and the equations above is that we factor out the $\\hbar$ term from the Hamiltonian.  By default, the unit of time in Qutip is set to be dimensionless, so $\\hbar$ is used to convert between dimensionless time and physical time.  In other words, the units in QuTiP are such that $\\hbar = 1$.  \n",
    "\n",
    "For the coupling term $\\chi$ we have selected a value that, in combination with the phase-matching bandwidth (provided below), results in a photon generation rate similar to what you see in the lab experiments. This will be described further in Exercise 1 where you calculate the photon pair generation rate."
   ]
  },
  {
   "cell_type": "code",
   "execution_count": null,
   "id": "11146b6a-b034-4463-8244-6cd290a1b2cd",
   "metadata": {
    "id": "11146b6a-b034-4463-8244-6cd290a1b2cd",
    "tags": []
   },
   "outputs": [],
   "source": [
    "#Constants\n",
    "hbar=6.67e-34/(2*pi) #Planck's reduced constant\n",
    "eps0=8.85e-12 # permittivity of free space\n",
    "c=2.99792458e8 # speed of light\n",
    "\n",
    "#User Parameters\n",
    "phase_matching_bandwidth=1e13 # approximate in Hz (you can make this consisten with experimental measurement)\n",
    "chi=1e-6 #Defines strength of nonlinearity, driven by peak pump field strength and chi2\n",
    "N1 = 10 #Number of photon orders in Fock state basis for a\n",
    "N2 = 10 #Number of photon orders in Fock state basis for b\n",
    "\n",
    "#presentation parameters\n",
    "plot_fontsize=12\n",
    "\n",
    "# definitions of operators\n",
    "# -- we define the operators through tensor products...\n",
    "# -- two quantum objects per tensor product as we have\n",
    "# -- two modes we are simulating here, a and b\n",
    "a  = tensor(destroy(N1), qeye(N2))\n",
    "na = tensor(num(N1),     qeye(N2))\n",
    "b  = tensor(qeye(N1),    destroy(N2))\n",
    "nb = tensor(qeye(N1),    num(N2))\n",
    "\n",
    "#Now we define the coupling Hamiltonian as in the text above:\n",
    "H0 = 0*a # interaction Hamiltonian before the 3-wave mixing (used for calculating initial state)\n",
    "Hab =  1j*chi * (a * b - a.dag() * b.dag())/2"
   ]
  },
  {
   "cell_type": "markdown",
   "id": "60031266-01c7-4eea-9bb0-c0b2fdcc25e1",
   "metadata": {
    "id": "60031266-01c7-4eea-9bb0-c0b2fdcc25e1"
   },
   "source": [
    "## Initial state and state evolution"
   ]
  },
  {
   "cell_type": "markdown",
   "id": "bce9399f-6b77-4782-b81b-b329644cc673",
   "metadata": {
    "id": "bce9399f-6b77-4782-b81b-b329644cc673"
   },
   "source": [
    "In the following, we initialize/define:\n",
    "* input state $\\ket{\\psi_0}$ of modes a and b, which are both in the vacuum state\n",
    "* `tlist`: a list of times that specifies the times at which the system should be evaluated during the evolution. In the example, tlist is created using the numpy function linspace, which generates an array of evenly spaced values over a specified interval.\n",
    "* `c_ops`: a list of collapse operators that describe the sources of decoherence and dissipation in the system. Collapse operators represent the interactions of the system with its environment that cause transitions between the energy eigenstates of the system.\n",
    "* `e_ops`: a python list storing observables. Here, the e_ops list is empty, which means that there are no observables being monitored during the evolution of the system.\n",
    "\n",
    "We then use the function mesolve from the Qutip library to solve the [quantum master equation ](https://https://en.wikipedia.org/wiki/Quantum_master_equation) to find the time evolution of the system. The function takes as input the Hamiltonian `Hab`, the initial state `psi0`, the list of times `tlist`, the list of collapse operators `c_ops`, and the list of observables `e_ops`. The function returns an object output that contains information about the time evolution of the system, such as the states of the system at each time in `tlist`.\n",
    "\n",
    "In the example, the `c_ops` list is empty, which means that there are no sources of decoherence or dissipation in the system. As a result, the evolution of the system is purely unitary and described by the Hamiltonian $H_{ab}$.\n",
    "\n",
    "The following code uses a python dictionary data structure to conveniently store operators and expected values. In anticipation of correlation values to be considered below, we're including those in our dictionary as well.  "
   ]
  },
  {
   "cell_type": "code",
   "execution_count": null,
   "id": "fc7cb7ad-43f8-4a15-9400-311e68ae1324",
   "metadata": {
    "id": "fc7cb7ad-43f8-4a15-9400-311e68ae1324",
    "tags": []
   },
   "outputs": [],
   "source": [
    "# System Definition:\n",
    "\n",
    "# Initial State\n",
    "# -- start in the ground (vacuum) state\n",
    "psi0 = tensor(basis(N1,0), basis(N2,0)) # initial state in the vacuum: |0>|0>\n",
    "\n",
    "c_ops = [] # c_ops is a list of collapse operators that describe the sources of\n",
    "            # decoherence and dissipation in the system. Collapse operators represent\n",
    "            # the interactions of the system with its environment that cause\n",
    "            # transitions between the energy eigenstates of the system.\n",
    "\n",
    "\n",
    "tlist = np.linspace(0, 1000, 1000) # tlist is a list of times that specifies the\n",
    "                                   # times at which the system should be evaluated\n",
    "                                   # during the evolution. In the example, tlist\n",
    "                                   # is created using the numpy function linspace,\n",
    "                                   # which generates an array of evenly spaced\n",
    "                                   # values over a specified interval.\n",
    "\n",
    "e_ops = [] # e_ops is a python list storing observables. Here, the e_ops list is\n",
    "           # empty, which means that there are no observables being monitored\n",
    "           # during the evolution of the system\n",
    "\n",
    "# -- Solve Quantum Master Equation --\n",
    "psi_out = mesolve(Hab, psi0, tlist, c_ops, e_ops)"
   ]
  },
  {
   "cell_type": "markdown",
   "id": "zPFAO_velLRO",
   "metadata": {
    "id": "zPFAO_velLRO"
   },
   "source": [
    "### Exercise 1\n",
    "\n",
    " 1a. Verify the Hermiticity of the Hamiltonian.\n",
    "\n",
    " 1b. Define operator objects for the number operators $\\hat{N}$ in $a$ and $b$, as well as the operator for $\\hat{N}^2$ for $a$ and $b$.  \n",
    "\n",
    " 1c. Use the `expect()` function to evaluate the expectation of the photon number in $a$ and $b$ for all of the output states, provided by `phi_out.states`.  You should have `1000` output states, one for each point in time in `tlist`.  Plot the growth of the photon number as a function of time.  Does it makes sense? (Compare directly to your expected expression from the pre-lab).\n",
    "\n",
    " 1d. Now calculate the standard deviation of the photon number in $a$ and $b$.  Explain the nature of the growth of the standard deviation.  Does it also match expectations?  Explain why this growth behavior make sense?\n",
    "\n",
    " 1e. The photon rate can be expressed as the phase-matching bandwidth times the photon number which provies the output photons per second.  Given the maximum value at the final time in the interaction, what is the photon emission rate?  How does this compare to the incident pump photon rate assuming a pump wavelength of 400 nm?  \n",
    "\n",
    "The code block below gets you started.  If needed, a refresher on photon number operators and photon number statistics is provided in [BASICS -- Quantum Optics](content-basics-quantum-optics).\n",
    "\n"
   ]
  },
  {
   "cell_type": "code",
   "execution_count": null,
   "id": "VbS7D7W7bOGK",
   "metadata": {
    "id": "VbS7D7W7bOGK"
   },
   "outputs": [],
   "source": [
    "na = a.dag()*a #number operator for mod a\n",
    "e_na = expect(na, psi_out.states)\n",
    "\n",
    "#... your code here to finish the exercise ..."
   ]
  },
  {
   "cell_type": "markdown",
   "id": "6ead129d-cc9b-4997-95bb-907557ae9bfc",
   "metadata": {
    "id": "6ead129d-cc9b-4997-95bb-907557ae9bfc"
   },
   "source": [
    "## State evolution\n",
    "\n",
    "Next, we will plot the photon distributions of two quantum optical modes a and b at selected times.\n",
    "\n",
    "The time indices are spaced over the number of time steps in `tlist`.  \n",
    "\n",
    "The following subplots show the state evolution (note the plots have shared horizontal and vertical axes). We represent the photon distributions as bar plots on the subplots.\n",
    "\n",
    "Only single-photon pairs in $a$ and $b$ are generated at a non-neglibile rate (but are still far fewer than the number of incident pump photons), with neglible amounts of higher order Fock state generation."
   ]
  },
  {
   "cell_type": "code",
   "execution_count": null,
   "id": "4ff1e366-ab7e-44be-9cff-df94c78b3bc4",
   "metadata": {
    "colab": {
     "base_uri": "https://localhost:8080/",
     "height": 626,
     "referenced_widgets": [
      "13d2b5759c96406980f2899488a89926",
      "ac17a9ee73ae4749a49c9bf0ac0526ad",
      "758ec313d68e419684728c127e79753a",
      "8f3adc3a7f8b47648716d2ff0196fc89",
      "d8357fe9d96e451ebad1196ccdd8c3be",
      "0d74f7fd83254666a91f426340974f55",
      "3c2f851b13ef44209ba1d924a1c606ba"
     ]
    },
    "executionInfo": {
     "elapsed": 1752,
     "status": "ok",
     "timestamp": 1708485739729,
     "user": {
      "displayName": "Donnie Keathley",
      "userId": "12999748697637083576"
     },
     "user_tz": 300
    },
    "id": "4ff1e366-ab7e-44be-9cff-df94c78b3bc4",
    "outputId": "e56025cc-1172-4e12-88af-f94cfbb01276",
    "tags": []
   },
   "outputs": [
    {
     "data": {
      "application/vnd.jupyter.widget-view+json": {
       "model_id": "13d2b5759c96406980f2899488a89926",
       "version_major": 2,
       "version_minor": 0
      },
      "text/plain": [
       "interactive(children=(IntSlider(value=30, description='t', max=999), Output()), _dom_classes=('widget-interact…"
      ]
     },
     "metadata": {},
     "output_type": "display_data"
    },
    {
     "data": {
      "text/html": [
       "<div style=\"max-width:800px; border: 1px solid var(--colab-border-color);\"><style>\n",
       "      pre.function-repr-contents {\n",
       "        overflow-x: auto;\n",
       "        padding: 8px 12px;\n",
       "        max-height: 500px;\n",
       "      }\n",
       "\n",
       "      pre.function-repr-contents.function-repr-contents-collapsed {\n",
       "        cursor: pointer;\n",
       "        max-height: 100px;\n",
       "      }\n",
       "    </style>\n",
       "    <pre style=\"white-space: initial; background:\n",
       "         var(--colab-secondary-surface-color); padding: 8px 12px;\n",
       "         border-bottom: 1px solid var(--colab-border-color);\"><b>update_plot</b><br/>def update_plot(t)</pre><pre class=\"function-repr-contents function-repr-contents-collapsed\" style=\"\"><a class=\"filepath\" style=\"display:none\" href=\"#\">/content/&lt;ipython-input-60-9263fb258598&gt;</a>&lt;no docstring&gt;</pre></div>"
      ],
      "text/plain": [
       "<function __main__.update_plot(t)>"
      ]
     },
     "execution_count": 60,
     "metadata": {},
     "output_type": "execute_result"
    },
    {
     "data": {
      "image/png": "[encoded data removed]",
      "text/plain": [
       "<Figure size 800x500 with 2 Axes>"
      ]
     },
     "metadata": {},
     "output_type": "display_data"
    }
   ],
   "source": [
    "import ipywidgets as widgets\n",
    "from IPython.display import display\n",
    "\n",
    "xmin,xmax = 0,5\n",
    "\n",
    "def update_plot(t):\n",
    "    fig, axes = plt.subplots(1, 2, figsize=(8, 5))\n",
    "    psia = ptrace(psi_out.states[t], 0)\n",
    "    psib = ptrace(psi_out.states[t], 1)\n",
    "    bar_vals_a = real(psia.diag())\n",
    "    bar_vals_b = real(psib.diag())\n",
    "#    max_val = max(bar_vals_a.max(), bar_vals_b.max())\n",
    "    max_val = max(bar_vals_a[1:].max(), bar_vals_b[1:].max()) # ignore first entry P(0) which is always gonna be large\n",
    "    axes[0].bar(range(N1), bar_vals_a)\n",
    "    axes[1].bar(range(N2), bar_vals_b)\n",
    "    axes[0].set_ylabel('$P(n)$')\n",
    "    axes[1].set_ylabel('$P(n)$')\n",
    "    axes[0].set_xlabel('$n_a$')\n",
    "    axes[1].set_xlabel('$n_b$')\n",
    "    axes[0].set_yscale('log')\n",
    "    axes[1].set_yscale('log')\n",
    "    axes[0].set_ylim(bottom=10**-8, top=bar_vals_a[1]*1.2)\n",
    "    axes[1].set_ylim(bottom=10**-8, top=bar_vals_a[1]*1.2)\n",
    "    axes[1].set_xlim(xmin,xmax)\n",
    "    axes[0].set_xlim(xmin,xmax)\n",
    "\n",
    "    fig.tight_layout()\n",
    "\n",
    "t_selector = widgets.FloatSlider(\n",
    "    min=0,\n",
    "    max=floor(len(tlist)/2),\n",
    "    step=1,\n",
    "    value=0,\n",
    "    description='Time index:',\n",
    "    continuous_update=False\n",
    ")\n",
    "\n",
    "#display(t_selector)\n",
    "widgets.interact(update_plot, t=widgets.IntSlider(min=0, max=len(tlist)-1, step=1, value=30))\n"
   ]
  },
  {
   "cell_type": "markdown",
   "id": "gNsh-geypuZO",
   "metadata": {
    "id": "gNsh-geypuZO"
   },
   "source": [
    "### Exercise 2\n",
    "\n",
    "2a. Increase the coupling term, $\\chi$ and redo the above state visualization.  What happens in terms of the photon number distribution when $\\chi$ becomes large?  Does the analytical solution still hold?"
   ]
  },
  {
   "cell_type": "markdown",
   "id": "9f043c63-7ec6-48b5-8ec5-1b83e9fac63c",
   "metadata": {
    "id": "9f043c63-7ec6-48b5-8ec5-1b83e9fac63c"
   },
   "source": [
    "## Second-order coherence"
   ]
  },
  {
   "cell_type": "markdown",
   "id": "4d153817-e85f-4002-9bab-fad505eedbde",
   "metadata": {
    "id": "4d153817-e85f-4002-9bab-fad505eedbde"
   },
   "source": [
    "Here we examine the generated photon statistics further by looking at the second order correlation function of photons in the outgoing modes $a$ and $b$. Note that second order coherence of single and heralded single-photons using SPDC is explored further in the [T2E1 lab](content-t2e1-intro-single-photons) through the use of a HBT measurement.\n",
    "\n",
    "Classical fields satisfy the Cauchy-Schwarz inequality evaluated at the same time $t$ on both detectors (Walls and Milburn, page 79).  This can be expressed with respect to the second order correlation functions of the output state at time $t$ as:\n",
    "\n",
    "$$(g^{(2)}_{ab})^2 \\leq g^{(2)}_{aa} g^{(2)}_{bb}$$\n",
    "\n",
    "where\n",
    "\n",
    "$$g^{(2)}_{ab} = \\frac{\\langle \\hat{a}^\\dagger \\hat{a} \\hat{b}^\\dagger \\hat{b} \\rangle}{\\langle \\hat{a}^\\dagger \\hat{a} \\rangle \\langle \\hat{b}^\\dagger \\hat{b}\\rangle} $$\n",
    "\n",
    "and\n",
    "\n",
    "$$g^{(2)}_{aa} = \\frac{\\langle \\hat{a}^\\dagger \\hat{a}^\\dagger \\hat{a} \\hat{a} \\rangle}{\\langle \\hat{a}^\\dagger \\hat{a} \\rangle ^2} $$\n",
    "\n",
    "and likewise for $g^{(2)}_{bb}$.  \n",
    "\n",
    "In the following you will explore this inequality further."
   ]
  },
  {
   "cell_type": "markdown",
   "id": "UOIVUCOlHiQk",
   "metadata": {
    "id": "UOIVUCOlHiQk"
   },
   "source": [
    "### Exercise 3\n",
    "\n",
    "3a. Using the same procedure as for the photon number expectation calculations, now calculate and plot the second order correlation functions for $g^{(2)}_{aa}$, $g^{(2)}_{bb}$, and $g^{(2)}_{ab}$.  \n",
    "\n",
    "3b. Is the Cauchy-Schwarz inequality broken?  \n",
    "\n",
    "3c. You should find that the photon correlations of the squeezed fields produced from a vacuum passing through the parametric amplifier are not just strongly nonclassical but actually saturate the bound on the maximum allowed by quantum mechanics.  Discuss why this makes SPDC a valuable resource from the context of quantum technologies."
   ]
  }
 ],
 "metadata": {
  "colab": {
   "provenance": [
    {
     "file_id": "1AhLtyDpxe1Mg0e59dnXkjREy3loCLFgm",
     "timestamp": 1708481624396
    }
   ],
   "toc_visible": true
  },
  "kernelspec": {
   "display_name": "Python 3 (ipykernel)",
   "language": "python",
   "name": "python3"
  },
  "language_info": {
   "codemirror_mode": {
    "name": "ipython",
    "version": 3
   },
   "file_extension": ".py",
   "mimetype": "text/x-python",
   "name": "python",
   "nbconvert_exporter": "python",
   "pygments_lexer": "ipython3",
   "version": "3.11.4"
  },
  "widgets": {
   "application/vnd.jupyter.widget-state+json": {
    "0d74f7fd83254666a91f426340974f55": {
     "model_module": "@jupyter-widgets/controls",
     "model_module_version": "1.5.0",
     "model_name": "SliderStyleModel",
     "state": {
      "_model_module": "@jupyter-widgets/controls",
      "_model_module_version": "1.5.0",
      "_model_name": "SliderStyleModel",
      "_view_count": null,
      "_view_module": "@jupyter-widgets/base",
      "_view_module_version": "1.2.0",
      "_view_name": "StyleView",
      "description_width": "",
      "handle_color": null
     }
    },
    "13d2b5759c96406980f2899488a89926": {
     "model_module": "@jupyter-widgets/controls",
     "model_module_version": "1.5.0",
     "model_name": "VBoxModel",
     "state": {
      "_dom_classes": [
       "widget-interact"
      ],
      "_model_module": "@jupyter-widgets/controls",
      "_model_module_version": "1.5.0",
      "_model_name": "VBoxModel",
      "_view_count": null,
      "_view_module": "@jupyter-widgets/controls",
      "_view_module_version": "1.5.0",
      "_view_name": "VBoxView",
      "box_style": "",
      "children": [
       "IPY_MODEL_ac17a9ee73ae4749a49c9bf0ac0526ad",
       "IPY_MODEL_758ec313d68e419684728c127e79753a"
      ],
      "layout": "IPY_MODEL_8f3adc3a7f8b47648716d2ff0196fc89"
     }
    },
    "3c2f851b13ef44209ba1d924a1c606ba": {
     "model_module": "@jupyter-widgets/base",
     "model_module_version": "1.2.0",
     "model_name": "LayoutModel",
     "state": {
      "_model_module": "@jupyter-widgets/base",
      "_model_module_version": "1.2.0",
      "_model_name": "LayoutModel",
      "_view_count": null,
      "_view_module": "@jupyter-widgets/base",
      "_view_module_version": "1.2.0",
      "_view_name": "LayoutView",
      "align_content": null,
      "align_items": null,
      "align_self": null,
      "border": null,
      "bottom": null,
      "display": null,
      "flex": null,
      "flex_flow": null,
      "grid_area": null,
      "grid_auto_columns": null,
      "grid_auto_flow": null,
      "grid_auto_rows": null,
      "grid_column": null,
      "grid_gap": null,
      "grid_row": null,
      "grid_template_areas": null,
      "grid_template_columns": null,
      "grid_template_rows": null,
      "height": null,
      "justify_content": null,
      "justify_items": null,
      "left": null,
      "margin": null,
      "max_height": null,
      "max_width": null,
      "min_height": null,
      "min_width": null,
      "object_fit": null,
      "object_position": null,
      "order": null,
      "overflow": null,
      "overflow_x": null,
      "overflow_y": null,
      "padding": null,
      "right": null,
      "top": null,
      "visibility": null,
      "width": null
     }
    },
    "758ec313d68e419684728c127e79753a": {
     "model_module": "@jupyter-widgets/output",
     "model_module_version": "1.0.0",
     "model_name": "OutputModel",
     "state": {
      "_dom_classes": [],
      "_model_module": "@jupyter-widgets/output",
      "_model_module_version": "1.0.0",
      "_model_name": "OutputModel",
      "_view_count": null,
      "_view_module": "@jupyter-widgets/output",
      "_view_module_version": "1.0.0",
      "_view_name": "OutputView",
      "layout": "IPY_MODEL_3c2f851b13ef44209ba1d924a1c606ba",
      "msg_id": "",
      "outputs": []
     }
    },
    "8f3adc3a7f8b47648716d2ff0196fc89": {
     "model_module": "@jupyter-widgets/base",
     "model_module_version": "1.2.0",
     "model_name": "LayoutModel",
     "state": {
      "_model_module": "@jupyter-widgets/base",
      "_model_module_version": "1.2.0",
      "_model_name": "LayoutModel",
      "_view_count": null,
      "_view_module": "@jupyter-widgets/base",
      "_view_module_version": "1.2.0",
      "_view_name": "LayoutView",
      "align_content": null,
      "align_items": null,
      "align_self": null,
      "border": null,
      "bottom": null,
      "display": null,
      "flex": null,
      "flex_flow": null,
      "grid_area": null,
      "grid_auto_columns": null,
      "grid_auto_flow": null,
      "grid_auto_rows": null,
      "grid_column": null,
      "grid_gap": null,
      "grid_row": null,
      "grid_template_areas": null,
      "grid_template_columns": null,
      "grid_template_rows": null,
      "height": null,
      "justify_content": null,
      "justify_items": null,
      "left": null,
      "margin": null,
      "max_height": null,
      "max_width": null,
      "min_height": null,
      "min_width": null,
      "object_fit": null,
      "object_position": null,
      "order": null,
      "overflow": null,
      "overflow_x": null,
      "overflow_y": null,
      "padding": null,
      "right": null,
      "top": null,
      "visibility": null,
      "width": null
     }
    },
    "ac17a9ee73ae4749a49c9bf0ac0526ad": {
     "model_module": "@jupyter-widgets/controls",
     "model_module_version": "1.5.0",
     "model_name": "IntSliderModel",
     "state": {
      "_dom_classes": [],
      "_model_module": "@jupyter-widgets/controls",
      "_model_module_version": "1.5.0",
      "_model_name": "IntSliderModel",
      "_view_count": null,
      "_view_module": "@jupyter-widgets/controls",
      "_view_module_version": "1.5.0",
      "_view_name": "IntSliderView",
      "continuous_update": true,
      "description": "t",
      "description_tooltip": null,
      "disabled": false,
      "layout": "IPY_MODEL_d8357fe9d96e451ebad1196ccdd8c3be",
      "max": 999,
      "min": 0,
      "orientation": "horizontal",
      "readout": true,
      "readout_format": "d",
      "step": 1,
      "style": "IPY_MODEL_0d74f7fd83254666a91f426340974f55",
      "value": 30
     }
    },
    "d8357fe9d96e451ebad1196ccdd8c3be": {
     "model_module": "@jupyter-widgets/base",
     "model_module_version": "1.2.0",
     "model_name": "LayoutModel",
     "state": {
      "_model_module": "@jupyter-widgets/base",
      "_model_module_version": "1.2.0",
      "_model_name": "LayoutModel",
      "_view_count": null,
      "_view_module": "@jupyter-widgets/base",
      "_view_module_version": "1.2.0",
      "_view_name": "LayoutView",
      "align_content": null,
      "align_items": null,
      "align_self": null,
      "border": null,
      "bottom": null,
      "display": null,
      "flex": null,
      "flex_flow": null,
      "grid_area": null,
      "grid_auto_columns": null,
      "grid_auto_flow": null,
      "grid_auto_rows": null,
      "grid_column": null,
      "grid_gap": null,
      "grid_row": null,
      "grid_template_areas": null,
      "grid_template_columns": null,
      "grid_template_rows": null,
      "height": null,
      "justify_content": null,
      "justify_items": null,
      "left": null,
      "margin": null,
      "max_height": null,
      "max_width": null,
      "min_height": null,
      "min_width": null,
      "object_fit": null,
      "object_position": null,
      "order": null,
      "overflow": null,
      "overflow_x": null,
      "overflow_y": null,
      "padding": null,
      "right": null,
      "top": null,
      "visibility": null,
      "width": null
     }
    }
   }
  }
 },
 "nbformat": 4,
 "nbformat_minor": 5
}
