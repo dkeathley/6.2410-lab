{
 "cells": [
  {
   "cell_type": "markdown",
   "metadata": {},
   "source": [
    "# TEXT -- QKD (Week 2)\n"
   ]
  },
  {
   "cell_type": "markdown",
   "metadata": {},
   "source": [
    "## Generating a secret key\n",
    "\n",
    "The next step of the experiment will be using the BB84 protocol to generate a secret key. You should be familiar with BB84 from your prsrequisite course, although there are links below to various resources describing the protocol. This text is intended to help you understand what the protocol aims to do and how it works. The pre-lab questions are brief and are located at the bottom of the page.\n",
    "\n",
    "This text covers the following topics:\n",
    "* [One time pad encryption](#One-time-pad-encryption)\n",
    "* [Description of BB84 protocol](#Description-of-BB84-protocol)\n",
    "* [Python simulation](#Python-simulation)\n",
    "* [Intro to the Ekert protocol](#Introduction-to-Ekert-protocol)\n",
    "* [Pre-Lab questions](#Pre-Lab-questions)"
   ]
  },
  {
   "cell_type": "markdown",
   "metadata": {},
   "source": [
    "## One time pad encryption\n",
    "\n",
    "One time pad encryption is a perfectly secure means of communicating a message. Alice takes the original message, the raw text, and encrypts it with a pad of random bits the same length as the message, resulting in the ciphertext. Alice transmits the ciphertext through a public channel to Bob. The channel is public because an eavesdropper Eve is able to intercept the entire message. Once Bob receives the ciphertext, he decrypts the ciphertext using the same pad Alice used initially. This allows him to read the original message.\n",
    "\n",
    "The benefit of OTP is its security: it's impossible for an eavesdropper to decode the message.\n",
    "\n",
    "The drawbacks are the key distribution. You need a key that's the same length as the message. Additionally, you need a new key for every message you want to encrypt and send: the protocol is only secure when each pad is used only once. \n",
    "\n",
    "Thus, the challenge is generating and distributing a new key for each message. *This* is the gap that QKD aims to fill.\n",
    "\n",
    "The code cell below is designed as a very basic tutorial for how OTP works. Encrypting and decrypting a message is simple: bitwise XOR with the key. If you XOR the raw message with the key, you get the ciphertext. Then if you XOR the cypher test with the key, you get the initial message back."
   ]
  },
  {
   "cell_type": "code",
   "execution_count": 1,
   "metadata": {},
   "outputs": [
    {
     "name": "stdout",
     "output_type": "stream",
     "text": [
      "Message: [0 0 0 1 1 1 1 1 0 0]\n",
      "Key    : [1 0 0 0 1 0 1 0 1 0]\n",
      "Now XOR those to get the cyphertext:\n",
      "Cypher : [1 0 0 1 0 1 0 1 1 0]\n",
      "To recover the original message, you XOR the key and the cypher\n",
      "Key    : [1 0 0 0 1 0 1 0 1 0]\n",
      "Cypher : [1 0 0 1 0 1 0 1 1 0]\n",
      "The recovered message after decryption is\n",
      "Decrypt: [0 0 0 1 1 1 1 1 0 0]\n",
      "Compare with original message\n",
      "Message: [0 0 0 1 1 1 1 1 0 0]\n"
     ]
    }
   ],
   "source": [
    "import numpy as np\n",
    "\n",
    "LENGTH = 10;\n",
    "# Generate a random message\n",
    "mess = np.random.randint(low = 0, high = 2, size = (LENGTH,))\n",
    "\n",
    "# Generate a random key\n",
    "key = np.random.randint(low = 0, high = 2, size = (LENGTH,))\n",
    "\n",
    "# Generate the ciphertext by performing bitwise XOR on the key and the message\n",
    "cypher = mess^key\n",
    "\n",
    "# Recover the original message by performing bitwise XOR on the cypher\n",
    "# and the key\n",
    "recover = cypher^key\n",
    "\n",
    "print(\"Message: % s\" %(mess))\n",
    "print(\"Key    : % s\" %(key))\n",
    "print(\"Now XOR those to get the cyphertext:\")\n",
    "print(\"Cypher : % s\" %(cypher))\n",
    "print(\"To recover the original message, you XOR the key and the cypher\")\n",
    "print(\"Key    : % s\" %(key))\n",
    "print(\"Cypher : % s\" %(cypher))\n",
    "print(\"The recovered message after decryption is\")\n",
    "print(\"Decrypt: % s\" %(recover))\n",
    "print(\"Compare with original message\")\n",
    "print(\"Message: % s\" %(mess))"
   ]
  },
  {
   "cell_type": "markdown",
   "metadata": {},
   "source": [
    "## Description of BB84 protocol\n",
    "\n",
    "BB84 is the first  QKD protocol, so there are a lot of great resources available to describe it. I'll include a few here. You don't have to read *all* of them, but make sure you understand what makes the protocol secure, how it's related to quantum mechanics, and what the procedure of the protocol is.\n",
    "\n",
    "The original [BB84 paper](https://www.dropbox.com/s/i251d4hj5xi4pkr/BB84.pdf?dl=0) lays out the protocol in an accessible and concise way. Section III is the most important part of the paper because it's where the authors walk through the protocol.\n",
    "\n",
    "quTools also providesa [manual](https://www.qutools.com/files/quED/quED-QKD-manual.pdf) on performing the QKD experiment with the quED. The BB84 protocol is described on pages 8 through 11.\n",
    "\n",
    "If you'd prefer to watch a video, there's a lecture from the University of Waterloo's Institute of Quantum Computing. Starting from 13:00 to about 21:00 is a walk-through of the QKD protocol."
   ]
  },
  {
   "cell_type": "code",
   "execution_count": 2,
   "metadata": {},
   "outputs": [
    {
     "data": {
      "text/html": [
       "<iframe width=\"560\" height=\"315\" src=\"https://www.youtube.com/embed/ToOLbdrWst4?start=783\" title=\"YouTube video player\" frameborder=\"0\" allow=\"accelerometer; autoplay; clipboard-write; encrypted-media; gyroscope; picture-in-picture; web-share\" allowfullscreen></iframe>\n"
      ],
      "text/plain": [
       "<IPython.core.display.HTML object>"
      ]
     },
     "metadata": {},
     "output_type": "display_data"
    }
   ],
   "source": [
    "%%HTML\n",
    "<iframe width=\"560\" height=\"315\" src=\"https://www.youtube.com/embed/ToOLbdrWst4?start=783\" title=\"YouTube video player\" frameborder=\"0\" allow=\"accelerometer; autoplay; clipboard-write; encrypted-media; gyroscope; picture-in-picture; web-share\" allowfullscreen></iframe>\n"
   ]
  },
  {
   "cell_type": "markdown",
   "metadata": {},
   "source": [
    "## Python simulation\n",
    "\n",
    "The following code simulates a BB84 set-up. This is being provided to you so that you can look at the effects of Eve's instrusion and the effects of loss. You can set the number of photons Alice sends as NN, the transmission from Alice to Bob as TT, and Eve's intrustion as FE. "
   ]
  },
  {
   "cell_type": "code",
   "execution_count": 2,
   "metadata": {
    "scrolled": true
   },
   "outputs": [
    {
     "name": "stdout",
     "output_type": "stream",
     "text": [
      "Alice sent Bob  1000 bits\n",
      "Bob received  909 bits\n",
      "They used the same basis in 407 of those bits\n",
      "This resulted in a total of 396 bits without errors\n",
      "The BER was   2.70E-02\n",
      "Eve got 48 bits\n"
     ]
    }
   ],
   "source": [
    "import numpy as np\n",
    "import random\n",
    "\n",
    "# How many photons does Alice send?\n",
    "NN = 1000\n",
    "\n",
    "# What is the transmission between Alice and Bob? \n",
    "# Transmission of 1 implies there's no loss at all\n",
    "# Transmission of 0 implies Eve is blocking the Alice to Bob channel\n",
    "TT = 0.9\n",
    "\n",
    "# How often does Eve listen in? 0 is never, 1 is always\n",
    "FE = 0.1\n",
    "\n",
    "# Initialize arrays\n",
    "\n",
    "# What bits did Alice's transmitted message send?\n",
    "bits_tx = np.zeros((NN)) - 1\n",
    "# What polarization did Alice use?\n",
    "pol_tx = np.zeros((NN)) - 1\n",
    "\n",
    "# Did the photon make it?\n",
    "photon_rx = np.zeros((NN)) - 1\n",
    "# Bob's measurement basis\n",
    "pol_rx = np.zeros((NN)) - 1\n",
    "# Bob's received photons\n",
    "bits_rx = np.zeros((NN)) - 1\n",
    "\n",
    "# Did Eve interefere?\n",
    "Eve_rx = np.zeros((NN)) - 1\n",
    "Eve_pol = np.zeros((NN)) - 1\n",
    "Eve_bit = np.zeros((NN)) - 1\n",
    "\n",
    "\n",
    "\n",
    "for i in range (NN):\n",
    "    # Alice generates a random bit to send\n",
    "    bit_A = random.randint(0,1)\n",
    "    bits_tx[i] = bit_A\n",
    "    # Now she selects a basis\n",
    "    bas_A = random.randint(0,1)\n",
    "    pol_tx[i] = bas_A\n",
    "    \n",
    "   # Now decide if Eve does something\n",
    "    if random.random() <= FE: # if Eve -DOES- decide to eavesdrop & send\n",
    "        Eve_rx[i] = 1 # Record that this is an occurence of Eve eavesdropping\n",
    "        Eve_bas = random.randint(0,1) # She randomly selects a basis\n",
    "        Eve_pol[i] = Eve_bas\n",
    "        if Eve_bas == bas_A: # If her basis matches Alice's\n",
    "            Eve_bit[i] = bit_A # Then she recovers the bit perfectly\n",
    "        else:\n",
    "            Eve_bit[i] = random.randint(0,1) # otherwise, it's a coin toss   \n",
    "        bit_rx = Eve_bit[i] # Now the bit Bob receives will be the bit Eve sends\n",
    "        bas_rx = Eve_bas # In the basis that Eve sends\n",
    "    else: # If Eve isn't measuring and sending out photons\n",
    "        pho_E = 0 # Mark this as no Eve involvement\n",
    "        bit_rx = bit_A # The bit Bob receives is ths bit Alice sends\n",
    "        bas_rx = bas_A # in the basis in which Alice sent it\n",
    "        \n",
    "    # If the photon makes it through the loss channel\n",
    "    if random.random() <= TT:\n",
    "        photon_rx[i] = 1\n",
    "        bas_B = random.randint(0,1) # Bob randomly selects a basis\n",
    "        pol_rx[i] = bas_B\n",
    "        if bas_B == bas_rx:\n",
    "            bit_B = bit_rx\n",
    "        else:\n",
    "            bit_B = random.randint(0,1)\n",
    "        bits_rx[i] = bit_B\n",
    "    else:\n",
    "        photon_rx[i] = 0;\n",
    "\n",
    "# now do some processing\n",
    "\n",
    "\n",
    "# First limit ourselves to cases where Alice and Bob used the same bases\n",
    "ix = np.array([np.where(pol_tx == pol_rx)])\n",
    "bits_tx_sifted = np.array(bits_tx[ix])\n",
    "bits_tx_sifted = bits_tx_sifted[0,0]\n",
    "bits_rx_sifted = np.array(bits_rx[ix])\n",
    "bits_rx_sifted = bits_rx_sifted[0,0]\n",
    "\n",
    "# Now look bit error rate (BER)\n",
    "errors = (bits_tx_sifted != bits_rx_sifted).astype(int)\n",
    "errors_total = errors.sum()\n",
    "usable_key = ix.size - errors_total\n",
    "BER = 1.0/ix.size * errors.sum()\n",
    "\n",
    "# What did Eve get?\n",
    "ixe = np.array([np.where((Eve_rx ==1) & (Eve_pol == pol_tx))])\n",
    "\n",
    "\n",
    "print(\"Alice sent Bob % d bits\"% NN)\n",
    "print(\"Bob received % d bits\"% photon_rx.sum())\n",
    "print(\"They used the same basis in %d of those bits\" %ix.size)\n",
    "print(\"This resulted in a total of %d bits without errors\" %usable_key)\n",
    "print(\"The BER was %10.2E\" %BER)\n",
    "print(\"Eve got %d bits\" %ixe.size)\n",
    "\n"
   ]
  },
  {
   "cell_type": "markdown",
   "metadata": {},
   "source": [
    "Based on this code, we see that as Eve listens in more often, she receives more bits of the key **and** Alice and Bob see more errors. Additionally, the loss of the system doesn't contribute to errors."
   ]
  },
  {
   "cell_type": "markdown",
   "metadata": {},
   "source": [
    "## Introduction to Ekert protocol\n",
    "\n",
    "BB84 is possibly the most well-known QKD protocol, but there are others. One important protocol is Ekert 91, which was published in 1991. Its main difference from BB84 is that it relies on the correlation of entangled photons. In this protocol, Alice and Bob each get one photon from a source of entangled photons and then do independent measurements on the polarization of their photon and report back which basis they used - either horizontal-vertical or diagonal-antidiagonal. \n",
    "\n",
    "Artur Ekert, who first publised the protocol, has made many YouTube videos on quantum information in general and QKD in particular. He teaches a class whose lecture materials are available online, and the [QKD lectures](https://qubit.guide/9-quantum-cryptography.html) are gathered together. For this text, I've embedded one short video where Ekert walks through the protocol. You'll note that he uses X and Z measurements on qubits. This is analogous to measuring the polarization in either the horizontal-vertical or diagonal-antidiagonal basis of linearly polarized photons."
   ]
  },
  {
   "cell_type": "code",
   "execution_count": 1,
   "metadata": {
    "scrolled": true
   },
   "outputs": [
    {
     "data": {
      "text/html": [
       "<iframe width=\"560\" height=\"315\" src=\"https://www.youtube.com/embed/2ExG7UJgfmQ\" title=\"YouTube video player\" frameborder=\"0\" allow=\"accelerometer; autoplay; clipboard-write; encrypted-media; gyroscope; picture-in-picture; web-share\" allowfullscreen></iframe>\n"
      ],
      "text/plain": [
       "<IPython.core.display.HTML object>"
      ]
     },
     "metadata": {},
     "output_type": "display_data"
    }
   ],
   "source": [
    "%%HTML\n",
    "<iframe width=\"560\" height=\"315\" src=\"https://www.youtube.com/embed/2ExG7UJgfmQ\" title=\"YouTube video player\" frameborder=\"0\" allow=\"accelerometer; autoplay; clipboard-write; encrypted-media; gyroscope; picture-in-picture; web-share\" allowfullscreen></iframe>"
   ]
  },
  {
   "cell_type": "markdown",
   "metadata": {},
   "source": [
    "## Pre-Lab questions\n",
    "1. What makes B84 secure?\n",
    "1. When Eve interferes on every bit, what is the resulting BER?\n",
    "1. Why is it important that Alice only sends Bob 1 photon at a time?"
   ]
  }
 ],
 "metadata": {
  "kernelspec": {
   "display_name": "Python 3 (ipykernel)",
   "language": "python",
   "name": "python3"
  },
  "language_info": {
   "codemirror_mode": {
    "name": "ipython",
    "version": 3
   },
   "file_extension": ".py",
   "mimetype": "text/x-python",
   "name": "python",
   "nbconvert_exporter": "python",
   "pygments_lexer": "ipython3",
   "version": "3.8.15"
  },
  "widgets": {
   "application/vnd.jupyter.widget-state+json": {
    "state": {},
    "version_major": 2,
    "version_minor": 0
   }
  }
 },
 "nbformat": 4,
 "nbformat_minor": 4
}
