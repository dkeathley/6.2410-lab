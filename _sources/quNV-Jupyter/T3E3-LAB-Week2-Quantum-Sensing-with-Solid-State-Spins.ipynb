{
 "cells": [
  {
   "cell_type": "markdown",
   "id": "08ce2b95-b080-4bca-9b48-f9985f7bcf40",
   "metadata": {},
   "source": [
    "# LAB -- Quantum Sensing With Solid State Spins (Week 2)"
   ]
  },
  {
   "cell_type": "markdown",
   "id": "fe2b6a65",
   "metadata": {},
   "source": [
    "## Aim 3: Achieve strong coupling between NV centers and the microwave resonator"
   ]
  },
  {
   "cell_type": "markdown",
   "id": "e66ea95a",
   "metadata": {},
   "source": [
    "### Prelab\n",
    "\n",
    "#### Laser safety\n",
    "\n",
    "In this week, you will be running experiments with a free-space 532nm laser that goes up to **3W**. Given that this is a [class 4](https://www.lasersafetyfacts.com/laserclasses.html) laser, you must first undergo proper laser safety training.\n",
    "\n",
    "In addition to the training session conducted by MIT EHS, we strongly urge you to read through the Laser Safety page [here](https://ehs.mit.edu/radiological-program/laser-safety/).\n",
    "\n",
    "The teaching staff will also supply laser safety glasses ([LG12 from Thorlabs](https://www.thorlabs.com/thorproduct.cfm?partnumber=LG12) with OD7 at 532$~$nm). You must be wearing these during the alignment step (step ii in Lab Exercise below) and during the experimental sequence (step vii).\n",
    "\n",
    "**If you have any questions or concerns regarding laser safety, do not hesitate to reach out to the teaching staff and MIT EHS (contact Judith Reilly, jmreilly@mit.edu).**"
   ]
  },
  {
   "cell_type": "markdown",
   "id": "40c68508",
   "metadata": {},
   "source": [
    "#### Simulation with hyperfine transitions\n",
    "\n",
    "In the previous session, you were able to simulate avoided crossing for a single hyperfine transition. Since NV centers in the diamond(s) that you will be using in the Lab Exercise parimarily constitute N-14 isotope, which is spin-1, you should expect to see _3_ hyperfine transitions.\n",
    "\n",
    ":::{figure-md} hyperfine-transitions-fig\n",
    "<img src=\"../FIGURES/hyperfine_transitions.png\" width=\"400\">\n",
    "\n",
    "Ground-state energy level structure of a single NV center. Left: electron spin levels. The solid black arrow depicts optical electron spin polarization to the $m_S$ = 0 state. Right: coupled electron-nuclear spin levels in the $|m_S\\rangle$ = +1  electronic spin state. Solid red arrows show\n",
    "nuclear spin preserving transitions ($1_+, 2_+$, and $3_+$). Dashed green arrows show nuclear spin exchanging transitions ($a_+, b_+, c_+,$ and $d_+$). Figure adapted from [Huillery et al.](https://journals.aps.org/prb/abstract/10.1103/PhysRevB.103.L140102).\n",
    ":::\n",
    "\n",
    "Please write a Python script that shows the 2D reflection spectra for 3 hyperfine transitions, spaced 2 MHz apart."
   ]
  },
  {
   "cell_type": "code",
   "execution_count": null,
   "id": "92f9e456",
   "metadata": {},
   "outputs": [],
   "source": [
    "### Your code goes here\n"
   ]
  },
  {
   "cell_type": "markdown",
   "id": "bcfeb92e",
   "metadata": {},
   "source": [
    "### Lab Exercise\n",
    "\n",
    "#### i) Interface with the power supply\n",
    "\n",
    "Similar to interfacing with the VNA during T3E3-TRAINING, you will also need to be able to control the power supply via Python. First, install the packages ```qcodes```, ```qcodes_contrib_drivers```, and ```pyserial```. Then, connect the power supply's USB port to the laptop. Run the following cell to determine which serial port it occupies.\n"
   ]
  },
  {
   "cell_type": "code",
   "execution_count": null,
   "id": "6e8604cf",
   "metadata": {},
   "outputs": [],
   "source": [
    "import serial.tools.list_ports\n",
    "print(list(serial.tools.list_ports.comports()))\n"
   ]
  },
  {
   "cell_type": "markdown",
   "id": "95a41f18",
   "metadata": {},
   "source": [
    "Alternatively, you can also run ```python -m serial.tools.list_ports``` directly in terminal."
   ]
  },
  {
   "cell_type": "markdown",
   "id": "fb27a98f",
   "metadata": {},
   "source": [
    "Following the example shown [here](https://qcodes.github.io/Qcodes_contrib_drivers/examples/Rohde_Schwarz_HMP4040.html), make sure you can set Channel 1's voltage and turn Channel 1's output on/off via Python commands."
   ]
  },
  {
   "cell_type": "code",
   "execution_count": null,
   "id": "6cc27dfc",
   "metadata": {},
   "outputs": [],
   "source": [
    "### Your code goes here\n",
    "\n"
   ]
  },
  {
   "cell_type": "markdown",
   "id": "6e63c50f",
   "metadata": {},
   "source": [
    "#### ii) Aligning the laser to excite the diamond\n",
    "\n",
    "Inside the magnetic shield, there should be a 3D printed component with a thick microscope glass slide (square-ish).\n",
    "\n",
    ":::{figure-md} 3d-printed-mount-fig\n",
    "<img src=\"../FIGURES/week2_3d_printed_mount.png\" width=\"300\">\n",
    "\n",
    "3D-printed mount for diamond samples.\n",
    ":::\n",
    "\n",
    "Place a purple diamond on the glass slide close to the center. At this point, call your TA over to the station to turn on the laser (heavily attenuated such that the optical power is much less than 3 W). ***Please wear proper laser safety glasses now.*** \n",
    "\n",
    "A 561$~$nm [optical longpass filter](https://www.iridian.ca/learning_center/light-notes/basics-long-pass-filters/) will be placed to contain the 532$~$nm laser light. Your TA will then align the laser light to ensure it is incident on the diamond by turning the knobs of the 45-degree mirror at the bottom of the cage (see picture below).\n",
    "\n",
    ":::{figure-md} mirror-knobs-fig\n",
    "<img src=\"../FIGURES/week2_mirror_knobs.png\" width=\"300\">\n",
    "\n",
    "The 45-degree kinematic mirror mount with two knobs used for aligning the laser beam with respect to the diamond samples.\n",
    ":::\n",
    "\n",
    "Upon incidence, still with your laser safety glasses on, you should be able to see _fluorescence_ emanating from the diamond. The fluorescence stems from the atomic transitions between the ground and excited states of the triplet manifold $^3 E \\leftrightarrow ^3 A$ in NV centers' level structure. Recall from T3E3-TEXT that the _direct_ emission from the exited state to the ground state corresponds to 637$~$nm. <u>If instead of a 561$~$nm longpass filter, we have a 638$~$nm optical longpass filter in place. Will you still be able to observe fluorescence? Why or why not?</u> You may find the photoluminescence spectrum below helpful.\n",
    "\n",
    ":::{figure-md} nv-spectrum-fig\n",
    "<img src=\"../FIGURES/week2_nv_spectrum.png\" width=\"500\">\n",
    "\n",
    "NV center's photoluminescence spectrum. Figure adapted froom [Gruber _et al._](https://www.science.org/doi/10.1126/science.276.5321.2012).\n",
    ":::\n",
    "\n",
    "Now, the TA will turn off the laser and remove the longpass filter. Put the purple diamond back inside its original container. Again, with the pair of tweezers, grab the _non-purple_ diamond and place it on the glass slide close to the center. Ask the TA to put the longpass filter back on top of the magnetic shield and turn on the laser again. ***Please make sure again you are wearing proper laser safety glasses.*** The TA will once again align the laser light to be incident on the diamond. <u>Are you able to observe any fluorescence? Explain why or why not? </u>\n",
    "\n",
    "The TA will turn off the laser once again.\n",
    "\n",
    "#### iii) Stack everything together!\n",
    "\n",
    "Recall from Aim 1, you had to stack the microwave resonators inside the magnetic shield. This time, you will stack even more things with your now seasoned tweezer skills.\n",
    "\n",
    "The diagram shown below is a reference to what you will be stacking:\n",
    "\n",
    ":::{figure-md} stack-fig\n",
    "<img src=\"../FIGURES/week2_stack.png\" width=\"700\">\n",
    "\n",
    "Diagram depicting a combined stack of the magnetic resonators and a diamond sample placed inside a magnetic shield.\n",
    ":::\n",
    "\n",
    "You need to first remove the 3D printed component with the glass slide, and replace it with a custom-machined PTFE (Teflon) disk on the [retaining ring](https://www.thorlabs.com/newgrouppage9.cfm?objectgroup_id=1535) inside the magnetic shield. Then, place one of the resonators (let's call it resonator 1) on top of the PTFE disk, which should have a divet that (sort of) fits the microwave cavity. Next, put a thin microscope slide on top of resonator 1 in place of the \"heat sink wafer\". \n",
    "\n",
    "Put the other resonator (call it resonator 2) on top of the thin glass slide. Try to _align resonator 2 to resonator 1_ laterally.\n",
    "\n",
    "Finally, use the pair of tweezers and \"drop\" the diamond inside resonator 2 (central hole). You should have the diamond standing on its thin side that is 0.5$~$mm thick. A good trick is to use the tweezers to nudge it to a standing position after dropping it into resonator 2. See the picture below for reference. Let the TA know if you are having troubles.\n",
    "\n",
    ":::{figure-md} diamond-in-cavity-fig\n",
    "<img src=\"../FIGURES/week2_diamond_in_cavity.png\" width=\"300\">\n",
    "\n",
    "Example of a microwave cavity with diamond samples placed inside, each diamond standing vertically on its thin side (0.5$~$mm).\n",
    ":::\n",
    "\n",
    "#### iv) Realign the laser to excite the diamond\n",
    "\n",
    "We will now repeat step (ii). Let the TA know you are ready to turn on the laser and align the laser beam for you. **Again, please wear your laser safety glasses now.** This time, the attenuated laser beam is incident on the diamond _through the holes of the resonators_. You should still be able to \"see\" fluorescence from NV centers.\n"
   ]
  },
  {
   "cell_type": "markdown",
   "id": "d527a0b1",
   "metadata": {},
   "source": [
    "#### v) Optimize the position of the loop coupler\n",
    "\n",
    "In order to see avoided-crossing, you want to maximize the effective _cooperativity_ of the spin-cavity system. The cooperativity $C$ scales with $1/\\kappa_c$. In other words, we must ensure the quality factor is as high as possible, _while keeping the loop coupler sufficiently close to be able to probe to cavity's frequency response_. Do your best to optimize the position of the loop coupler by changing its $z$ coordinate to achieve the highest quality factor, i.e. smallest cavity linewidth. Unfortunately, its $x,y$ positions will be fixed by the iris, which is intended as both an additional magnetic shield and laser block. Hence, you may need to adjust the _tilt_ slightly in addition to $z$.\n",
    "\n",
    ":::{figure-md} iris-adjust-fig\n",
    "<img src=\"../FIGURES/week2_iris_adjust.png\" width=\"600\">\n",
    "\n",
    "(left) Picture of an iris wrapping around the looper coupler. (right) Diagram showing the degrees of freedom for optimizing the loop coupler's position.\n",
    ":::\n",
    "\n",
    "Be sure to avoid knocking over the resonator stack with the diamond that you have carefully constructed while optimizing the loop coupler's position.\n"
   ]
  },
  {
   "cell_type": "markdown",
   "id": "cd81a712",
   "metadata": {},
   "source": [
    "#### vi) Write an experimental sequence to produce a 2D map of frequency vs magnetic field\n",
    "\n",
    "From T3E3-TRAINING, you were able to interface with the VNA via Python. And from part (i), you were able to interface with the power supply, which effectively drives the Helmholtz coil and thereby the amount of the mangetic field being generated.\n",
    "\n",
    "Below, please write an experiment sequence that performs a 2D sweep over both frequency and magnetic field. The sweep over frequency is essentially done for you by the VNA. Your task here will be to grab a trace off the VNA (with carefully defined frequency center and span corresponding to the cavity signal), and sweep over a range of voltages. The voltage range, i.e. the sweeping range of the magnetic field strength, should cover the required field strength to shift the NV centers' resonance to match the cavity resonance. This was calculated by you in Aim 1's Prelab.\n",
    "\n",
    "**Importantly, for each magnetic field strength, you should obtain an _average_ of a frequency trace.** In your script, please also compute the variance of each point.\n",
    "\n",
    "You should run a pseudo-experiment without the laser on to make sure the experimental sequence runs smoothly. Please also check that you can generate a 2D map of your acquired \"data\".\n"
   ]
  },
  {
   "cell_type": "code",
   "execution_count": null,
   "id": "5917c7e5",
   "metadata": {},
   "outputs": [],
   "source": [
    "### Your code goes here\n",
    "\n"
   ]
  },
  {
   "cell_type": "markdown",
   "id": "3ab5e78c",
   "metadata": {},
   "source": [
    "#### vii) Run the experimental sequence and determine if you have achieved strong coupling\n",
    "\n",
    "Now, it is time to reproduce the avoided-crossing data you have seen in the demo and in your simulation results from Aim 2!\n",
    "\n",
    "Call your TA over when you have reached this step. **Remeber to put on your laser safety glasses.** After your TA closes the iris (if you have not done so already) and places the foam (an additional laser block) above it, the laser will be turned on to its max power. At this point, run the experimental sequence you have scripted.\n",
    "\n",
    "If the cavity quality factor is narrow enough, and the coupling strength between NV centers and the microwave resonator is sufficiently strong, the spin-cavity system should achieve strong coupling. In this case, \n",
    "your 2D map should contain \"kinks\" at each of the three hyperfine transitions.\n",
    "\n",
    "If you are having troubles, discuss with your teammates about ways to increase the coupling strength, SNR, ...etc. Consult with your TA afterwards.\n",
    "\n",
    "Once you have obtained data exhibiting strong coupling, try increasing the number of VNA traces being averaged over per each magnetic field strength to see if the contrast improves further.\n"
   ]
  },
  {
   "cell_type": "markdown",
   "id": "fcb11479",
   "metadata": {},
   "source": [
    "#### viii) Estimate the sensitivity\n",
    "\n",
    "With your acquired data, please estimate the maximal magnetic field sensitivity you have achieved. The phase noise of the spectrum analyzer in the VNA is measured to be [-103$~$dBc/Hz ](https://github.com/jankae/LibreVNA/blob/master/Documentation/UserManual/specsheet.pdf) at 1$~$GHz (for simplicity, we will assume the noise level is the same for our frequencies).\n",
    "\n",
    "You should:\n",
    "\n",
    "- First, convert the phase noise $d\\phi$ to $V_{\\text{rms}}/\\sqrt{\\text{Hz}}$. For this, you will need to obtain the input power from either the libreVNA GUI or use the Python interface.\n",
    "\n",
    "- Second, re-plot the 2D data for $dV/dB$, where $B$ is the magnetic field strength and $V$ is the r.m.s. voltage $V_{\\text{rms}}$. Note that the data you extract from the VNA via Python is in dBm (power).\n",
    "\n",
    "- Third, find the maximum $dV/dB$ and compute $d\\phi/(dV/dB)_{\\text{max}}$ in pT/$\\sqrt{\\text{Hz}}$. This would be your maximum magnetic field sensitivity, assuming your noise floor is limited mainly by the VNA's phase noise."
   ]
  },
  {
   "cell_type": "code",
   "execution_count": null,
   "id": "361ad0fa",
   "metadata": {},
   "outputs": [],
   "source": []
  }
 ],
 "metadata": {
  "kernelspec": {
   "display_name": "Python 3 (ipykernel)",
   "language": "python",
   "name": "python3"
  },
  "language_info": {
   "codemirror_mode": {
    "name": "ipython",
    "version": 3
   },
   "file_extension": ".py",
   "mimetype": "text/x-python",
   "name": "python",
   "nbconvert_exporter": "python",
   "pygments_lexer": "ipython3",
   "version": "3.7.4"
  },
  "widgets": {
   "application/vnd.jupyter.widget-state+json": {
    "state": {},
    "version_major": 2,
    "version_minor": 0
   }
  }
 },
 "nbformat": 4,
 "nbformat_minor": 5
}
