{
 "cells": [
  {
   "cell_type": "markdown",
   "id": "d6bf1595",
   "metadata": {},
   "source": [
    "## TRAINING - Interfacing with the Vector Network Analyzer\n",
    "In this exercise, we will practice using Python to communicate with the vector network analyzer (VNA), which allows us to probe the microwave cavity's frequency response. In short, the VNA acts as both a signal generator and a receiver. Within a defined frequency sweep, $\\omega\\in[\\omega_1,\\omega_2]$, it sends a signal at frequency $\\omega$ and measures the reflected power off the cavity. When $\\omega$ is resonant with the cavity's resonance frequency $\\omega_c$, i.e. $\\omega=\\omega_c$, the reflected power would be minimal. This will be covered in more details in the textbook. For now, we will focus on writing a small piece of code to send commands to the VNA, and collecting the relevant measurement data, $S_{21}$."
   ]
  },
  {
   "cell_type": "markdown",
   "id": "546a60e5",
   "metadata": {},
   "source": [
    "### 1. Installing the VNA GUI\n",
    "\n",
    "The GUI software for the VNA can be downloaded here: https://github.com/jankae/LibreVNA/releases\n",
    "\n",
    "You may download either the latest version or pre-release.\n",
    "\n",
    "You may also designate one person whose laptop/computer will be installed with the software. However, each person still needs to submit their own code."
   ]
  },
  {
   "cell_type": "markdown",
   "id": "2279bec9",
   "metadata": {},
   "source": [
    "### 2. Familiarize with the GUI\n",
    "\n",
    "Make sure the VNA is USB-connected to your computer. Then, open the LibreVNA-GUI. In the \"Device\" tab, you should be able to see the VNA's device ID in \"Connect To\". Select the device, and you should be seeing four quadrants, each representing a [S-parameter](https://en.wikipedia.org/wiki/Scattering_parameters). For the experiment you will be running, only $S_{21}$ is needed. You may enlarge the \"S21\" screen by dragging its boundaries.\n",
    "\n",
    "In the top bar, make sure the \"Sweep type\" is Frequency. You can define the frequency sweep range by either setting (1) Start and Stop, or (2) Center and Span.\n",
    "\n",
    "Right-clicking on the plot and selecting \"Axis Setup\" allows you to select \"Auto\" for the axes' range. This is important if you want to monitor signals with changing amplitudes and/or after you change the frequency sweep range.\n",
    "\n",
    "_Note that Ports 1 & 2 of the VNA are not connected to anything at the moment, so you should just be seeing noise in the \"S21\" plot._"
   ]
  },
  {
   "cell_type": "markdown",
   "id": "4d1c3892",
   "metadata": {},
   "source": [
    "### 3. Establish connection with the VNA via Python\n",
    "\n",
    "#### 3.1 Download the Python file below. Make sure it is either in the same directory as this Jupyter notebook or modify the directory path when importing."
   ]
  },
  {
   "cell_type": "markdown",
   "id": "a76c9ac3",
   "metadata": {},
   "source": [
    "Click [here](https://drive.google.com/file/d/1kkkXeQyyrg6BMhK2RJBleBGn8OjrYlfB/view?usp=sharing) to download."
   ]
  },
  {
   "cell_type": "markdown",
   "id": "0c7c7db3",
   "metadata": {},
   "source": [
    "#### 3.2 Next, try running the next code block."
   ]
  },
  {
   "cell_type": "code",
   "execution_count": 4,
   "id": "9b14c213",
   "metadata": {},
   "outputs": [],
   "source": [
    "# RUN ME\n",
    "from libreVNA import libreVNA\n",
    "import matplotlib.pyplot as plt\n"
   ]
  },
  {
   "cell_type": "markdown",
   "id": "fc385d14",
   "metadata": {},
   "source": [
    "#### 3.3 Connecting to the VNA\n",
    "\n",
    "If the above block runs without an issue, run the next code block to establish connection. After creating a handle to the VNA, you will notice there are two methods to communicate with the device.```vna.query(XXX)``` and ```vna.command(XXX)```. The former sends a command to the VNA and asks for a response (aka query), and the latter only sends a command. The input ```XXX``` to either of these methods is a [SCPI](https://en.wikipedia.org/wiki/Standard_Commands_for_Programmable_Instruments) (Standard Commands for Programmable Instruments). For a complete of list of SCPI commands for the VNA, consult the Programming Guide below:"
   ]
  },
  {
   "cell_type": "markdown",
   "id": "92a6e455",
   "metadata": {},
   "source": [
    "Click [here](https://drive.google.com/file/d/1GpGNjROYpluPD1voHh7sdNY6kIebRYhF/view?usp=share_link) to download."
   ]
  },
  {
   "cell_type": "code",
   "execution_count": null,
   "id": "d743c78b",
   "metadata": {},
   "outputs": [],
   "source": [
    "# RUN ME\n",
    "\n",
    "# Establish VNA connection\n",
    "# note: remember to communicate with the VNA, the GUI must be running\n",
    "\n",
    "# Create the control instance\n",
    "vna = libreVNA('localhost', 19542)\n",
    "\n",
    "# Quick connection check (should print \"LibreVNA-GUI\")\n",
    "print(vna.query(\"*IDN?\"))\n",
    "\n",
    "# Make sure we are connecting to a device (just to be sure, with default settings the LibreVNA-GUI auto-connects)\n",
    "vna.cmd(\":DEV:CONN\")\n",
    "dev = vna.query(\":DEV:CONN?\")\n",
    "if dev == \"Not connected\":\n",
    "    print(\"Not connected to any device, aborting\")\n",
    "    exit(-1)\n",
    "else:\n",
    "    print(\"Connected to \"+dev)"
   ]
  },
  {
   "cell_type": "markdown",
   "id": "bd763ef4",
   "metadata": {},
   "source": [
    "### 4. Setting the VNA parameters\n",
    "\n",
    "Write a Python script that does the following:\n",
    "1. Sets the frequency sweep range from 2.93 GHz to 2.95 GHz\n",
    "2. Sets the sweep with 51 frequency points\n",
    "3. Sets the [intermediate frequency](https://en.wikipedia.org/wiki/Intermediate_frequency) bandwidth to 1 kHz\n",
    "4. Sets the number of average to 1"
   ]
  },
  {
   "cell_type": "code",
   "execution_count": 17,
   "id": "2b6cae39",
   "metadata": {},
   "outputs": [],
   "source": [
    "# Your code goes here\n",
    "\n",
    "# 1\n",
    "vna.cmd(\":VNA:FREQuency:CENTer 2940000000\")\n",
    "vna.cmd(\":VNA:FREQuency:SPAN 20000000\")\n",
    "\n",
    "# 2\n",
    "vna.cmd(\":VNA:ACQ:POINTS 51\")\n",
    "\n",
    "# 3\n",
    "vna.cmd(\":VNA:ACQ:IFBW 1000\")\n",
    "\n",
    "# 4\n",
    "vna.cmd(\":VNA:ACQ:AVG 1\")\n"
   ]
  },
  {
   "cell_type": "markdown",
   "id": "c3306c06",
   "metadata": {},
   "source": [
    "### 5. Grabbing data off the VNA\n",
    "\n",
    "Write a Python script that extracts $S_{21}$ data vector, and plots both the amplitude and phase entries. You may find the method ```vna.parse_VNA_trace_data(...)``` helpful."
   ]
  },
  {
   "cell_type": "code",
   "execution_count": null,
   "id": "b612a169",
   "metadata": {},
   "outputs": [],
   "source": [
    "# Your code goes here\n",
    "\n",
    "import numpy as np\n",
    "import matplotlib.pyplot as plt\n",
    "\n",
    "# grab the data of trace S21\n",
    "data = vna.query(\":VNA:TRACE:DATA? S21\")\n",
    "\n",
    "S21 = vna.parse_VNA_trace_data(data)\n",
    "freqs = S21[:][0]\n",
    "amp = np.abs(S21[:][1])**2\n",
    "phase = np.angle(S21[:][1])\n",
    "\n",
    "# Plot amplitude and phase\n",
    "fig, ax1 = plt.subplots(figsize=(8, 8))\n",
    "ax2 = ax1.twinx()\n",
    "\n",
    "ax1.plot(freqs,amp)\n",
    "ax1.set_xlabel('Frequency')\n",
    "ax1.set_ylabel('Amplitude (a.u.)')\n",
    "ax2.plot(freqs,phase)\n",
    "ax2.set_ylabel('Phase (deg)')\n"
   ]
  }
 ],
 "metadata": {
  "kernelspec": {
   "display_name": "Python 3 (ipykernel)",
   "language": "python",
   "name": "python3"
  },
  "language_info": {
   "codemirror_mode": {
    "name": "ipython",
    "version": 3
   },
   "file_extension": ".py",
   "mimetype": "text/x-python",
   "name": "python",
   "nbconvert_exporter": "python",
   "pygments_lexer": "ipython3",
   "version": "3.7.4"
  },
  "widgets": {
   "application/vnd.jupyter.widget-state+json": {
    "state": {},
    "version_major": 2,
    "version_minor": 0
   }
  }
 },
 "nbformat": 4,
 "nbformat_minor": 5
}
