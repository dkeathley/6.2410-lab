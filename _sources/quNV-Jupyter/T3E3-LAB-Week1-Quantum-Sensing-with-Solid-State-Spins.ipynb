{
 "cells": [
  {
   "cell_type": "markdown",
   "id": "0b092ec9",
   "metadata": {},
   "source": [
    "# LAB - Quantum Sensing with Solid State Spins (Week 1)\n",
    "\n",
    "In this lab, you will explore using RF electronics to probe the microwave cavities and coupling the cavities to NV centers in diamond to enable quantum magnetometry.\n",
    "\n",
    "Specific aims are:\n",
    "\n",
    "    1. Understand the optical setup\n",
    "    2. Characterize the microwave cavities and the Helmholtz coil\n",
    "    3. Simulate strong coupling between NV centers and the microwave resonator\n",
    "    4. Achieve strong coupling between NV centers and the microwave resonator\n",
    "    5. Improving the avoided-crossing contrast \n",
    "    \n",
    "Please note the questions throughout the lab instructions.  You will be expected to address these in your lab writeup.  You are also expected to keep lab notebooks (can be digital, paper, or both) for notes, data, and analysis."
   ]
  },
  {
   "cell_type": "markdown",
   "id": "cca63335",
   "metadata": {},
   "source": [
    "## Aim 0: Understand the optical setup"
   ]
  },
  {
   "cell_type": "markdown",
   "id": "d8d00d23",
   "metadata": {},
   "source": [
    "### Prelab\n",
    "\n",
    "In this lab, you will be using a home-built optical setup containing the following main components:\n",
    "\n",
    "- a 3W 532nm free space laser (this is a class-4 laser requiring laser safety!)\n",
    "- a magnetic shield\n",
    "- microwave cylindrical resonators\n",
    "- a loop coupler\n",
    "- a Helmholtz coil\n",
    "- diamond samples (~3mm x 3mm x 0.5mm) containing NV centers\n",
    "- cavity mounts (PTFE disks)\n",
    "\n",
    ":::{figure-md} setup-fig\n",
    "<img src=\"../FIGURES/week1_setup.png\" width=\"800\">\n",
    "\n",
    "(left) Picture of the experimental setup. (right) Diagram depicting the magnetic resonators and diamond placed inside a magnetic shield.\n",
    ":::\n",
    "\n",
    "Not shown in the picture of the setup are the electronics and the RF components needed to probe the microwave cavity. You will be tasked to put together the RF circuitry for running the experiment.\n",
    "\n",
    "As mentioned during the demo session, the experiment is based mainly on [E. Eisenach et al, Cavity-enhanced microwave readout of a solid-state spin sensor](https://www.nature.com/articles/s41467-021-21256-7), which you may find to be a valuable reference.\n",
    "\n",
    "Other helpful references may be:\n",
    "\n",
    "- [JF Barry et. al. Sensitivity optimization for NV-diamond magnetometry](https://https://journals.aps.org/rmp/abstract/10.1103/RevModPhys.92.015004)\n",
    "- [D. Fahey et. al., Steady-state microwave mode cooling with a diamond NV ensemble](https://https://arxiv.org/abs/2203.03462)\n",
    "- [ME Trusheim et. al. A Polariton-Stabilized Spin Clock](https://arxiv.org/abs/2009.02427)"
   ]
  },
  {
   "cell_type": "markdown",
   "id": "894a45ba",
   "metadata": {},
   "source": [
    "## Aim 1: Characterize the microwave cavities and the Helmholtz coil"
   ]
  },
  {
   "cell_type": "markdown",
   "id": "04ca6d01",
   "metadata": {},
   "source": [
    "### Lab Exercise\n",
    "\n",
    "### <u>For the following steps, please take extra care when handling the microwave cavities and the loop coupler!</u>\n",
    "\n",
    "#### i) Estimate the cavity's resonance frequency\n",
    "\n",
    "There are two microwave resonators provided to you. Both of them should have identical geometries, except with slightly different surface qualities. Take one of them and measure its outer radius and length. Use the measured geometry parameters and estimate the cavity's resonance frequency.\n",
    "\n",
    "<u>Can you measure the resonance frequency via the VNA, whose bandwidth covers 100 kHz to 6 GHz?</u>\n",
    "\n",
    "<u>What would be the expected resonance frequency if you stack the two resonators on top of another, with their central holes as aligned as possible?</u>\n",
    "\n",
    "<u>Can you measure the combined stack's resonance frequency via the VNA?</u>\n",
    "\n",
    "#### ii) Build the RF circuitry for probing the cavity's resonance frequency\n",
    "\n",
    "The VNA has a send port (Port 1) and a receive port (Port 2). Port 1 sends out a microwave tone by an internal signal generator, and port 2 measures the transmitted/reflected signal to compute the S-parameters. Use the provided [circulator](https://en.wikipedia.org/wiki/Circulator) and note the numbers written on its, connect its ports to the VNA and the loop coupler appropriately such that the loop coupler can be used to probe the cavity's signal. Check with the TA after you are done.\n",
    "\n",
    "#### iii) Measure the microwave resonator's frequency\n",
    "\n",
    "Now with the loop coupler properly connected to the VNA via the circulator, first put on gloves and grab the pair of tweezers. Carefully place the resonator stack inside the magnetic shield on the cavity mount, as shown in the figure below.\n",
    "\n",
    ":::{figure-md} resonators-in-shield-fig\n",
    "<img src=\"../FIGURES/week1_resonators_in_shield.png\" width=\"250\">\n",
    "\n",
    "Microwave resonators stacked inside the magnetic shield.\n",
    ":::\n",
    "\n",
    "Mount the loop coupler such that it is directly above the resonator. You should use the [right-angle clamp](https://www.thorlabs.com/thorproduct.cfm?partnumber=RA90) to adjust the loop coupler position, as shown in the figure below.\n",
    "\n",
    "Open the libreVNA GUI and connect to the device. Make sure you are monitoring the \"S21\" window. Change the center frequency to what you estimated above for the stacked resonator. Change the span to 20 MHz. By adjusting the position of the loop coupler relative to the resonator, you should be able to observe the cavity resonance dip. Once you have done so, play around with the position of the loop coupler and observe how the cavity's observed loaded $Q$ and resonance frequency $\\omega_c$ change. <u>Write down your observations and explanations to these changes as a function of position.</u> In Aim 2, you will need to methodically measure the cavity resonance frequency and quality factor as a function of $z$.\n",
    "\n",
    "Try repeating the above procedure except now with a thick microscope glass slide in between the two resonators in the resonator stack. <u>Is there a difference in the cavity response from before?</u> Now switch to using a thin microscope glass slide. <u>Any difference now?</u>"
   ]
  },
  {
   "cell_type": "markdown",
   "id": "aad3f97c",
   "metadata": {},
   "source": [
    "#### iv) Characterize the Helmholtz coil\n",
    "\n",
    ":::{figure-md} alligator-clips-fig\n",
    "<img src=\"../FIGURES/week1_alligator_clips.png\" width=\"250\">\n",
    "\n",
    "Alligator clips.\n",
    ":::\n",
    "\n",
    "The Helmholtz coil we will be using actually has two coils, each with two electrical leads. Connect the red and black alligator clips to the leads in both coils. Note that red typically indicates the positive end, and black indicates the negative end. There is a correct way of making the connection. Otherwise, you may not be able to generate much magnetic field. Check with the TA if you are unsure.\n",
    "\n",
    "After you are done, grab the alligator clips' BNC cable ends and connect them to a [BNC-Tee connector](https://www.digikey.com/en/products/detail/molex/0731485003/1465138?utm_adgroup=Connectors%2C%20Interconnects&utm_source=google&utm_medium=cpc&utm_campaign=Shopping_Supplier_Molex_0900_Co-op&utm_term=&utm_content=Connectors%2C%20Interconnects&gclid=CjwKCAiAxP2eBhBiEiwA5puhNbxEHfe9gE0oFxSoYIL6urG-hMIu8VkCRfdGRDRMaGn1JRQUZ3Z4ABoCab4QAvD_BwE). Then, attach the BNC-[banana connector](https://en.wikipedia.org/wiki/Banana_connector) adapter to the BNC-Tee connector, and insert the adapter into Channel 1 of the R&S power supply (HMP4040).\n",
    "\n",
    ":::{figure-md} bncT-power-supply-fig\n",
    "<img src=\"../FIGURES/week1_bncT_power_supply.png\" width=\"800\">\n",
    "\n",
    "(left) An adapter for banana plugs and BNC, BNC Tee connector. (right) Rhode & Schwarz power supply, HMP4040.\n",
    ":::\n",
    "\n",
    "Next, turn on the Gauss meter.\n",
    "\n",
    ":::{figure-md} gauss-meter-fig\n",
    "<img src=\"../FIGURES/week1_gauss_meter.png\" width=\"300\">\n",
    "\n",
    "Gauss meter.\n",
    ":::\n",
    "\n",
    "<u>What is the intrinsic reading displayed on the Gauss meter? Why is it non-zero?</u>\n",
    "\n",
    "Set Channel 1's voltage to 1 V, and click on \"Output\" on the top right of the front panel of the power supply. Put the Gauss meter's probe in between the loops and note down the measured magnetic field.\n",
    "\n",
    "Estimate the number of loops per coil. You may find this [Helmholtz coil calculator](https://www.notblackmagic.com/bitsnpieces/helmholtz-coil/) useful.\n",
    "\n",
    "Increase the voltage in increments of 1 V all the way to 20 V, and write down the measured magnetic field for each voltage setting. ***Please do not set the voltage beyond 20 V without consulting the TA***\n",
    "\n",
    "Generate below a plot of magnetic field in Gauss (y-axis) vs Channel 1's voltage (x-axis).\n"
   ]
  },
  {
   "cell_type": "markdown",
   "id": "1cfcbe89",
   "metadata": {},
   "source": [
    "## Aim 2: Simulate strong coupling between NV centers and the microwave resonator"
   ]
  },
  {
   "cell_type": "markdown",
   "id": "26bf11ce",
   "metadata": {},
   "source": [
    "### Prelab\n",
    "\n",
    "Here are some questions to better prepare you for the lab exercise.\n",
    "\n",
    "1. Consult this [product link](https://e6cvd.com/us/application/quantum-radiation/dnv-b14-%203-0mmx3-0mm-0-5mm.html) for one of the diamond types. Obtain the nitrogen concentration under \"Materials Properties\" and assume that all nitrogen defects in the crystal lattice are converted to NV centers. Estimate the density of NV centers in diamond in units of NV/m$^3$.\n",
    "\n",
    "    Hint: you may need to look up the atomic density of diamond and convert to its units to number of atoms/m$^3$.\n",
    "\n",
    "2. Given our diamond dimensions, 3mm x 3mm x 0.5mm, what is the effective coupling strength $g$? Assume a single spin coupling strength is $g_0=0.01$ Hz. You may find the paper by [Eisenach _et al._](https://www.nature.com/articles/s41467-021-21256-7) helpful.\n",
    "\n",
    "Now you should be equiped to do the lab exercise!\n"
   ]
  },
  {
   "cell_type": "markdown",
   "id": "6783e140",
   "metadata": {},
   "source": [
    "### Lab Exercise\n",
    "\n",
    "In this lab session, you will be strictly working on creating a Python script that simulates the strong coupling dynamics between NV centers and the microwave resonator. In scientific research, it is often extremely valuable to be able to _predict_ how the experimental results may vary depending numerous parameters. By producing a [digital twin](https://en.wikipedia.org/wiki/Digital_twin), you will be able to better understand the feasibility of using such a solid state spin-based system for performing quantum sensing.\n",
    "\n",
    "#### i) Estimate the microwave cavity's intrinsic quality factor\n",
    "\n",
    "Based on the data you have acquired last week, plot out the loaded $Q$ as a function of distance (in $z$) between the loop coupler and the top of the cavity. Rough estimation of the distance is fine. If you did not record the data from last week, you may repeat the same measurements. Be sure to have the loop coupler as directly above the microwave resonator to remove any $x,y$ dependence.\n",
    "\n",
    "Remember that the loaded $Q\\propto 1/\\kappa_c$ and the coupling rate to the loop coupler $\\kappa_1$ are both functions of $z$. Fit your plot with an exponential function, e.g. $\\propto 1-exp(-z)$, and estimate the intrinsic quality factor, $Q_0\\propto 1/\\kappa_0$.\n",
    "\n",
    "Then, generate a plot of $\\kappa_1$ as a function of $z$.\n",
    "\n",
    "#### ii) Plot the frequency difference between $m_s=0$ and $m_s=+1$ states as a function of magnetic field (in Gauss)\n",
    "\n",
    "#### iii) Generate a 1D plot of the cavity reflection coefficient \n",
    "\n",
    "Recall that the cavity reflection coefficient is defined as:\n",
    "\n",
    "$$\\Gamma(\\omega) = -1+\\frac{\\kappa_{c1}}{\\frac{\\kappa_c}{2}+j(\\omega-\\omega_c)+\\frac{g^2}{\\frac{\\kappa_s}{2}+j(\\omega-\\omega_s)+\\alpha}}$$\n",
    "\n",
    "For simplicity, let's first take $g=0$. Generate a 1D plot of the real part of $\\Gamma(\\omega)$ as a function of $\\omega$. Choose and define $\\omega_c,\\kappa_c,\\kappa_{c1}$ based on what you measured in Aim 1 and calculated above.\n",
    "\n",
    "#### iv) Generate 2D plots of the cavity reflection coefficient\n",
    "\n",
    "Now, use the effective coupling strength $g$ you computed in the Prelab, generate 2D plots of the following, with the $x$-axis being magnetic field strength and $y$-axis being frequency:\n",
    "\n",
    "- [In-phase](https://en.wikipedia.org/wiki/In-phase_and_quadrature_components) component of $\\Gamma(\\omega)$\n",
    "- [Quadrature](https://en.wikipedia.org/wiki/In-phase_and_quadrature_components) component of $\\Gamma(\\omega)$\n",
    "- Amplitude of $\\Gamma(\\omega)$\n",
    "- Phase of $\\Gamma(\\omega)$\n",
    "\n",
    "Select $\\omega_c,\\kappa_c,\\kappa_{c1}$ appropriately to ensure you can observe [avoided crossing](https://en.wikipedia.org/wiki/Avoided_crossing) similar to what was observed by [Eisenach _et al._](https://www.nature.com/articles/s41467-021-21256-7) (Figure 2). You may assume $\\alpha=0$. $\\kappa_s=2/T_2$ where $T_2$ is the coherence time of the NV centers. You may assume $T_2=20~\\mu$s.\n",
    "\n",
    "You may find using the Python module ```ipywidgets``` helpful. By creating a widget with scroll bars, you may be able to freely change the parameters without manually typing in different values. Specifically, the ```interact_manual``` method (see documentation [here](https://ipywidgets.readthedocs.io/en/stable/examples/Using%20Interact.html?highlight=interact_manual#interact_manual)).\n"
   ]
  },
  {
   "cell_type": "markdown",
   "id": "22d5c78b",
   "metadata": {},
   "source": [
    "If you are done with the simulator and playing with various parameters, please ask the TA to give you a demo on how to handle diamond pieces. For the following sessions, you will be picking up and placing small diamond samples (3mm x 3mm x 0.5mm). It may benefit you to get some practice on handling small diamonds without dropping them.\n",
    "\n",
    "1. Practice picking up a diamond without losing grip. Take care to _not exert too much strength_ on tweezing, as too much force would sometimes to lead to \"propelling\" the diamond.\n",
    "2. Practice placing down the diamond and nudging it gently from the sides to adjust its lateral position.\n",
    "3. Practice having the diamond stand on its 0.5mm-thick side.\n"
   ]
  }
 ],
 "metadata": {
  "kernelspec": {
   "display_name": "Python 3 (ipykernel)",
   "language": "python",
   "name": "python3"
  },
  "language_info": {
   "codemirror_mode": {
    "name": "ipython",
    "version": 3
   },
   "file_extension": ".py",
   "mimetype": "text/x-python",
   "name": "python",
   "nbconvert_exporter": "python",
   "pygments_lexer": "ipython3",
   "version": "3.8.15"
  },
  "widgets": {
   "application/vnd.jupyter.widget-state+json": {
    "state": {},
    "version_major": 2,
    "version_minor": 0
   }
  }
 },
 "nbformat": 4,
 "nbformat_minor": 5
}
