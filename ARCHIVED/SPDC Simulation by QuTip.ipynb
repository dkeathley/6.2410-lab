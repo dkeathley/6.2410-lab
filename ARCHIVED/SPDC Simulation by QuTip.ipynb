{
 "cells": [
  {
   "cell_type": "markdown",
   "id": "20ec57f4",
   "metadata": {
    "tags": [
     "remove-cell"
    ]
   },
   "source": [
    "# Latex Headers\n",
    "\n",
    " - Ensure proper support for certain latex notation\n",
    " - Code below\n",
    "\n",
    "$$\\newcommand{\\ket}[1]{\\left|{#1}\\right\\rangle}$$\n",
    "$$\\newcommand{\\bra}[1]{\\left\\langle{#1}\\right|}$$\n",
    "$$\\newcommand{\\braket}[2]{\\left\\langle{#1}\\middle|{#2}\\right\\rangle}$$\n",
    "$$\\newcommand{\\adagger}[0]{\\hat{a}^{\\dagger}}$$\n",
    "$$\\newcommand{\\ahat}[0]{\\hat{a}}$$\n",
    "$$\\newcommand{\\bdagger}[0]{\\hat{b}^{\\dagger}}$$\n",
    "$$\\newcommand{\\bhat}[0]{\\hat{b}}$$\n",
    "$$\\newcommand{\\cdagger}[0]{\\hat{c}^{\\dagger}}$$\n",
    "$$\\newcommand{\\chat}[0]{\\hat{c}}$$\n",
    "$$\\newcommand{\\ddagger}[0]{\\hat{d}^{\\dagger}}$$\n",
    "$$\\newcommand{\\dhat}[0]{\\hat{d}}$$\n",
    "$$\\newcommand{\\edagger}[0]{\\hat{e}^{\\dagger}}$$\n",
    "$$\\newcommand{\\ehat}[0]{\\hat{e}}$$\n",
    "$$\\newcommand{\\fdagger}[0]{\\hat{f}^{\\dagger}}$$\n",
    "$$\\newcommand{\\fhat}[0]{\\hat{f}}$$\n",
    "$$\\newcommand{\\gtwo}[0]{g^{(2)}}$$"
   ]
  },
  {
   "cell_type": "markdown",
   "id": "243fed55-344e-4603-8e09-f0da267165a6",
   "metadata": {
    "id": "yunGc95UrfWc"
   },
   "source": [
    "# SPDC Simulation by QuTip\n",
    "We can model the SPDC process and squeezed light via the formalism of the degenerate parametric amplifier."
   ]
  },
  {
   "cell_type": "code",
   "execution_count": null,
   "id": "9145b556-6b46-4f71-83f2-de926a66e608",
   "metadata": {
    "colab": {
     "base_uri": "https://localhost:8080/"
    },
    "id": "THsLINEVxCft",
    "outputId": "b75f1b78-ca7a-4fd0-affb-36152841f6d2",
    "tags": [
     "\"hide-output\""
    ]
   },
   "outputs": [],
   "source": [
    "!pip install qutip\n",
    "\n",
    "from qutip import *\n",
    "\n",
    "%matplotlib inline\n",
    "import matplotlib.pyplot as plt\n",
    "from matplotlib import cm\n",
    "import numpy as np\n",
    "from numpy import *\n",
    "# install QuTip\n",
    "\n"
   ]
  },
  {
   "cell_type": "markdown",
   "id": "939e6f04-8295-4212-9141-8dc81de0760b",
   "metadata": {
    "id": "q_fwmVAr0MFi"
   },
   "source": [
    "### Operators and Hamiltonian"
   ]
  },
  {
   "cell_type": "markdown",
   "id": "563f5d62-2691-4517-897f-beec08b14036",
   "metadata": {
    "id": "yh55dTMQjRM4"
   },
   "source": [
    "In the following code, we set the parameters chi, N1, and N2, which are used to define the system's operators a, na, b, and nb. These operators represent the annihilation and number operators for two distinct modes of the system.\n",
    "\n",
    "The tensor() function is used to create composite operators that act on the joint Hilbert space of the two modes. The destroy() and num() functions create the annihilation and number operators, respectively.\n",
    "\n",
    "We obtain the interaction Hamiltonian Hab from the expection of the pump laser field $$| \\alpha_p\\rangle = D(\\alpha_p) |0\\rangle $$ where the displacement operator $$D(\\alpha_p)$$ creates the coherent state in mode p. Let's assume  $$\\alpha_p \\in \\mathbb{R} $$ to avoid some math tedium. Then, in the interaction picture,\n",
    "\n",
    "$$\n",
    "\\begin{aligned}\n",
    "H_{ab} &= \\langle \\alpha_p | H_{abp} | \\alpha_p \\rangle \\\\\n",
    "&= -i \\chi_2 (a b \\alpha_p^* - a^{\\dagger} b^{\\dagger} \\alpha_p) \\\\\n",
    "&= -i \\chi_2 \\alpha_p (a b - a^{\\dagger} b^{\\dagger}) \\\\\n",
    "&= -i \\hbar \\frac{\\chi}{2} (a b - a^{\\dagger} b^{\\dagger})\n",
    "\\end{aligned}\n",
    "$$\n",
    "\n",
    "where we define\n",
    "\n",
    "$$\n",
    "\\chi \\equiv \\frac{2 \\chi_2 |\\alpha_p|}{\\hbar}.\n",
    "$$\n",
    "\n",
    "Here, we explicitly factored out the $\\hbar$ term to simplify the subsequent math since that $\\hbar$ will be canceled by the $\\hbar$ in the denominator of the time dependent Schrodinger equation, $\\frac{\\partial}{\\partial t} |\\psi(t)\\rangle = -\\frac{i}{\\hbar} H |\\psi(t)\\rangle$.\n",
    "\n",
    "By default, the unit of time in Qutip is set to dimensionless, so $\\hbar$ is used to convert between dimensionless time and physical time.\n",
    " \n"
   ]
  },
  {
   "cell_type": "code",
   "execution_count": null,
   "id": "115226ca-587e-4b11-a3ca-4620ea99cbbe",
   "metadata": {
    "colab": {
     "base_uri": "https://localhost:8080/"
    },
    "id": "4x_UB-G30MFi",
    "outputId": "b2a39f2f-40cc-4918-f50b-d0e9b133aa69",
    "tags": [
     "\"hide-input\""
    ]
   },
   "outputs": [],
   "source": [
    "#Constants\n",
    "hbar=6.67e-34/(2*pi)\n",
    "eps0=8.85e-12\n",
    "c=3e8\n",
    "#Parameters\n",
    "phase_matching_bandwidth=1e13 # approximate in Hz\n",
    "n_refr = 2.2\n",
    "beam_power=1e-2 # in Watts\n",
    "beam_area=1e-5**2 # in m^2\n",
    "pump_intensity=beam_power/beam_area\n",
    "alpha_p = pow(2*pump_intensity/(c*eps0*n_refr),1/2)\n",
    "\n",
    "#presentation parameters\n",
    "plot_fontsize=12\n",
    "\n",
    "#print(alpha_p)\n",
    "chi2=2.7e-12 # (2.7 pm/V according to https://www.unitedcrystals.com/BBOProp.html) \n",
    "#chi = 0.2\n",
    "chi = 2*chi2*alpha_p/hbar\n",
    "print(chi*hbar)\n",
    "N1 = 10\n",
    "N2 = 10\n",
    "\n",
    "\n",
    "# definitions of operators \n",
    "a  = tensor(destroy(N1), qeye(N2))\n",
    "na = tensor(num(N1),     qeye(N2)) \n",
    "b  = tensor(qeye(N1),    destroy(N2))\n",
    "nb = tensor(qeye(N1),    num(N2)) \n",
    "\n",
    "#We obtain the following interaction Hamiltonian on the three fields $$a,b,p$$ after tracing out the pump field \n",
    "# the fully quantum 3-wave mixing Hamiltonion would be H_abp = chi2 * (a * b * p.dag() + a.dag() * b.dag() * p)\n",
    "\n",
    "H0 = 0*a # interaction Hamiltonian before the 3-wave mixing (used for calculating initial state)\n",
    "Hab = - 1j* hbar *chi * (a * b - a.dag() * b.dag())/2\n",
    "\n"
   ]
  },
  {
   "cell_type": "markdown",
   "id": "591fdead-fd43-460b-95b8-1818b11a8166",
   "metadata": {
    "id": "LVphDfno0MFj"
   },
   "source": [
    "### Initial state and state evolution"
   ]
  },
  {
   "cell_type": "markdown",
   "id": "a14ba165-597d-4042-87d2-c20333add7ef",
   "metadata": {
    "id": "qpoMvK2Wp-6k"
   },
   "source": [
    "In the following, we'll will: \n",
    "* initialize the input state psi0 of modes a and b, which are both in the vacuum state \n",
    "* tlist: tlist is a list of times that specifies the times at which the system should be evaluated during the evolution. In the example, tlist is created using the numpy function linspace, which generates an array of evenly spaced values over a specified interval. \n",
    "\n",
    "* c_ops is a list of collapse operators that describe the sources of decoherence and dissipation in the system. Collapse operators represent the interactions of the system with its environment that cause transitions between the energy eigenstates of the system.\n",
    "* e_ops is a python list storing observables. Here, the e_ops list is empty, which means that there are no observables being monitored during the evolution of the system.\n",
    "\n",
    "* We use the function mesolve from the Qutip library to solve the [quantum master equation ](https://https://en.wikipedia.org/wiki/Quantum_master_equation) to find the time evolution of the system. The function takes as input the Hamiltonian Hab, the initial state psi0, the list of times tlist, the list of collapse operators c_ops, and the list of observables e_ops. The function returns an object output that contains information about the time evolution of the system, such as the states of the system at each time in tlist.\n",
    "\n",
    "\n",
    "\n",
    "In the example, the c_ops list is empty, which means that there are no sources of decoherence or dissipation in the system. As a result, the evolution of the system is purely unitary and described by the Hamiltonian $H_{ab}$. \n",
    "\n",
    "The following code uses a python dictionary data structure to conveniently store operators and expected values. In anticipation of correlation values to be considered below, we're including those in our dictionary as well.  "
   ]
  },
  {
   "cell_type": "code",
   "execution_count": null,
   "id": "aaf3b9a6-cf1a-4972-8888-aa3da4fe1f83",
   "metadata": {
    "id": "fb8FYt73L_mU"
   },
   "outputs": [],
   "source": [
    "# start in the ground (vacuum) state\n",
    "psi0 = tensor(basis(N1,0), basis(N2,0)) # initial state in the vacuum\n",
    "# REVISION: to allow for some background light contamination (room lights, fluorescence, etc), let's actually start in a thermal state with mean photon number..\n",
    "# REVISION2: with thermal state, the code has to do density matrix evolution which is super slow. let's approximate by equally bright coherent state (which is an equally good approximation as there may be some laser background etc)\n",
    "#rho0= tensor(thermal_dm(N1, background_photons),thermal_dm(N2, background_photons))\n",
    "#psi0= tensor(displace(N1,sqrt(background_photons)),displace(N2,sqrt(background_photons)))*psi0\n",
    "#psi0= tensor(displace(N1,sqrt(background_photons)),displace(N2,sqrt(background_photons)))*psi0\n",
    "theta=0\n",
    "background_photons=1e-20\n",
    "#c_ops = [] # c_ops is a list of collapse operators that describe the sources of decoherence and dissipation in the system. Collapse operators represent the interactions of the system with its environment that cause transitions between the energy eigenstates of the system.\n",
    "n_th = background_photons  # bath temperature in terms of excitation number\n",
    "c_ops = []# [sqrt((1+n_th)) * a, sqrt(n_th) * a.dag()]\n",
    "\n",
    "psi0=cos(theta)**2*psi0 +sin(theta)**2 * tensor(displace(N1,sqrt(background_photons)),qeye(N2))*psi0\n",
    "#rho0 = steadystate(H0, c_ops)\n",
    "\n",
    "\n",
    "\n",
    "tlist = np.linspace(0, 1000, 1000) # tlist is a list of times that specifies the times at which the system should be evaluated during the evolution. In the example, tlist is created using the numpy function linspace, which generates an array of evenly spaced values over a specified interval.\n",
    "\n",
    "e_ops = [] # e_ops is a python list storing observables. Here, the e_ops list is empty, which means that there are no observables being monitored during the evolution of the system\n",
    "psi_out = mesolve(Hab, psi0, tlist, c_ops, e_ops)\n",
    "\n",
    "ops_dict = {\n",
    "  \"na\": a.dag() * a,\n",
    "  \"na_squared\": (a.dag() * a)**2,\n",
    "  \"nb\": b.dag() * b,\n",
    "  \"nb_squared\": (b.dag() * b)**2,\n",
    "}\n",
    "\n",
    "expected_vals_dict = {key: np.zeros(len(psi_out.states)) for key in ops_dict.keys()}\n",
    "\n",
    "for idx, psi in enumerate(psi_out.states):\n",
    "  for key in ops_dict.keys():\n",
    "    expected_vals_dict[key][idx] = expect(ops_dict[key], psi)\n",
    "    "
   ]
  },
  {
   "cell_type": "markdown",
   "id": "4c7f64d2-ba73-46b0-8fba-290623d45a2b",
   "metadata": {
    "id": "EOyImgiw3onf"
   },
   "source": [
    "Let's study $|\\psi_{out} \\rangle$ by plotting four subplots that show the average number of photons in each mode a and b, as well as their fluctuations, as a function of time. The subplots are labeled with the corresponding quantities and the x-axis of all subplots is shared."
   ]
  },
  {
   "cell_type": "code",
   "execution_count": null,
   "id": "b662acfc-e1da-47e2-85ab-f2d0d8e4caa2",
   "metadata": {
    "colab": {
     "base_uri": "https://localhost:8080/",
     "height": 603
    },
    "id": "QR7ztOqDAtpl",
    "outputId": "28fca9ee-d659-45ea-ab95-11eff38f2461"
   },
   "outputs": [],
   "source": [
    "fig, axes = plt.subplots(2, 2, sharex=True, figsize=(12,8))\n",
    "\n",
    "tlistp=tlist[1:]\n",
    "lines = [\n",
    "    [axes[0,0].plot(tlist, expected_vals_dict[\"na\"], 'rx', linewidth=2), r'$\\langle \\psi_{out}| n_a| \\psi_{out} \\rangle \\equiv \\langle \\psi_{out}| a^\\dagger a | \\psi_{out} \\rangle \\equiv \\langle a^\\dagger a \\rangle$'],\n",
    "    [axes[0,1].plot(tlist, expected_vals_dict[\"nb\"], 'bx', linewidth=2), r'$\\langle n_b \\rangle$'],\n",
    "    [axes[1,0].plot(tlist, np.sqrt(expected_vals_dict[\"na_squared\"] - expected_vals_dict[\"na\"]**2), 'rx', linewidth=2), r'$\\sqrt{\\langle( n_a - \\langle n_a \\rangle )^{2} \\rangle }$'],\n",
    "    [axes[1,1].plot(tlist, np.sqrt(expected_vals_dict[\"nb_squared\"] - expected_vals_dict[\"nb\"]**2), 'bx', linewidth=2), r'$\\sqrt{\\langle( n_b -\\langle n_b \\rangle)^{2}\\rangle }$'],\n",
    "    [axes[1,0].plot(tlist, np.sqrt(expected_vals_dict[\"na\"]**2+expected_vals_dict[\"na\"]), 'k-', linewidth=2), r'$\\sqrt{\\langle n_a \\rangle + \\langle n_a \\rangle^{2} }$'],\n",
    "    [axes[1,1].plot(tlist, np.sqrt(expected_vals_dict[\"nb_squared\"]), 'k-', linewidth=2), r'$\\sqrt{\\langle n_b \\rangle + \\langle n_b \\rangle^{2} }$']\n",
    "]\n",
    "\n",
    "for idx, line in enumerate(lines[:4]):\n",
    "    line[0][0].set_label(line[1])\n",
    "    axes[idx//2, idx%2].legend()\n",
    "    \n",
    "print(\"max_photon_flux_a=phase_matching_bandwidth * max(<ada>)= {:.1e} photons/sec\".format(phase_matching_bandwidth * max(expected_vals_dict[\"na\"])))\n",
    "\n",
    "fig.tight_layout()\n"
   ]
  },
  {
   "cell_type": "markdown",
   "id": "9d45fd9b-72c3-455c-babf-1342314cd904",
   "metadata": {
    "id": "iOqrIWrv0MFk"
   },
   "source": [
    "### State evolution\n",
    "\n",
    "Next, we will plot the photon distributions of two quantum optical modes a and b at selected times. The time indices are spaced over Ntsamples time steps and are stored in the t_idx_vec list. \n",
    "\n",
    "The following subplots show the state evolution (note the plots have shared horizontal and vertical axes). We represent the photon distributions as bar plots on the subplots. "
   ]
  },
  {
   "cell_type": "code",
   "execution_count": null,
   "id": "6ecf7490-4112-458e-b895-02a9741d8db1",
   "metadata": {
    "colab": {
     "base_uri": "https://localhost:8080/",
     "height": 419,
     "referenced_widgets": [
      "b3e1b13071e74c90a693a62b215156ce",
      "07cc2b6f356846d8b37b8ea6fd989c6c",
      "600ea38fa7c642c79761d470f57667c4",
      "71406403f5644e2a869145312f980157",
      "6ac555ad4e29400aa7ddcb332216cb6e",
      "5d7296e363dd4ddbace19b48ed8378b8",
      "01390fbb71164c71bca5a62d03162df2"
     ]
    },
    "id": "2MupTXjl7QaN",
    "outputId": "d8e155d6-5716-4ec7-c996-e362597736fe"
   },
   "outputs": [],
   "source": [
    "import ipywidgets as widgets\n",
    "from IPython.display import display\n",
    "\n",
    "xmin,xmax = 0,5\n",
    "\n",
    "def update_plot(t):\n",
    "    fig, axes = plt.subplots(1, 2, figsize=(8, 5))\n",
    "    psia = ptrace(psi_out.states[t], 0)\n",
    "    psib = ptrace(psi_out.states[t], 1)\n",
    "    bar_vals_a = real(psia.diag())\n",
    "    bar_vals_b = real(psib.diag())\n",
    "#    max_val = max(bar_vals_a.max(), bar_vals_b.max())\n",
    "    max_val = max(bar_vals_a[1:].max(), bar_vals_b[1:].max()) # ignore first entry P(0) which is always gonna be large\n",
    "    axes[0].bar(range(N1), bar_vals_a)\n",
    "    axes[1].bar(range(N2), bar_vals_b)\n",
    "    axes[0].set_ylabel('$P(n)$')\n",
    "    axes[1].set_ylabel('$P(n)$')\n",
    "    axes[0].set_xlabel('$n_a$')\n",
    "    axes[1].set_xlabel('$n_b$')\n",
    "    axes[0].set_yscale('log')\n",
    "    axes[1].set_yscale('log')\n",
    "    axes[0].set_ylim(bottom=10**-8, top=bar_vals_a[1]*1.2)\n",
    "    axes[1].set_ylim(bottom=10**-8, top=bar_vals_a[1]*1.2)\n",
    "    axes[1].set_xlim(xmin,xmax)\n",
    "    axes[0].set_xlim(xmin,xmax)\n",
    "\n",
    "    fig.tight_layout()\n",
    "\n",
    "t_selector = widgets.FloatSlider(\n",
    "    min=0,\n",
    "    max=floor(len(tlist)/2),\n",
    "    step=1,\n",
    "    value=0,\n",
    "    description='Time index:',\n",
    "    continuous_update=False\n",
    ")\n",
    "\n",
    "#display(t_selector)\n",
    "widgets.interact(update_plot, t=widgets.IntSlider(min=0, max=len(tlist)-1, step=1, value=30))\n"
   ]
  },
  {
   "cell_type": "markdown",
   "id": "e68342db-1b91-44d7-8cc0-9b8a822ff731",
   "metadata": {
    "id": "aWppEEmw0MFl"
   },
   "source": [
    "### Photon number statistics"
   ]
  },
  {
   "cell_type": "code",
   "execution_count": null,
   "id": "09b97913-2b4c-412b-be31-a590a9907194",
   "metadata": {
    "id": "TU40J8tVI9ta"
   },
   "outputs": [],
   "source": [
    "ops_dict.update({\n",
    "  \"ad_ad_a_a\": a.dag() * a.dag() * a * a,\n",
    "  \"bd_bd_b_b\": b.dag() * b.dag() * b * b,\n",
    "  \"ad_a_bd_b\": a.dag() * a * b.dag() * b\n",
    "  #\"ad_a_bd_b\": a.dag() * b.dag() * a * b\n",
    "\n",
    "})\n",
    "for key in ops_dict:\n",
    "    expected_vals_dict[key] = np.zeros(len(psi_out.states))\n",
    "\n",
    "\n",
    "\n",
    "\n",
    "for idx, psi in enumerate(psi_out.states):\n",
    "  for key in ops_dict:\n",
    "    expected_vals_dict[key][idx] = expect(ops_dict[key], psi)\n"
   ]
  },
  {
   "cell_type": "markdown",
   "id": "206ca1a2-9564-48df-b5c8-a84360828862",
   "metadata": {
    "id": "E_lvJLVEgQS5"
   },
   "source": [
    "The following code updates the dictionary \"ops_dict\" by adding entries for the observables being monitored during the evolution of the system. These observables are the second-order coherence terms of the two harmonic oscillators, represented by the combinations of creation and annihilation operators. With self-evident notation, these are \"ad_ad_a_a\", \"bd_bd_b_b\", and \"ad_a_bd_b\".\n",
    "\n",
    "The code then initializes the dictionary \"expected_vals_dict\" to store the expected values of these observables over time. This is done by creating an array of zeros with length equal to the number of times at which the system is evaluated during its evolution.\n",
    "\n",
    "Finally, the code computes the expected values of the observables by iterating over the states in the output of the mesolve function and using the expect function from Qutip to compute the expected values at each time step. These expected values are stored in the corresponding entries of the \"expected_vals_dict\" dictionary."
   ]
  },
  {
   "cell_type": "markdown",
   "id": "4812859b-0185-45e6-94d6-f3dda238a1a0",
   "metadata": {
    "id": "Dw9JdvLz0MFl"
   },
   "source": [
    "### Second-order coherence functions\n",
    "\n",
    "Walls and Milburn, page 79: Classical fields satisfy the Cauchy-Schwartz inequality evaluated at the same time $t$ on both detectors, i.e., $$ \\langle \\psi_{out}(t) | a_1^{\\dagger} a_1 a_2^{\\dagger}  a_2 | \\psi_{out}(t) \\rangle \\leq \\langle (a_1^{\\dagger})^{2}  (a_1)^{2}  \\rangle_t $$, or equivalently \n",
    "\n",
    "$$(g_{12}^{(2)})_{t}^2 \\leq (g_{1}^{(2)}g_{2}^{(2)})_{t}$$.\n",
    "\n",
    "Plotting the correlation functions, we see a strong violation of the Cauchy-Schwartz inequality in the weak-pump limit. In fact, the photon correlations of the squeezed fields produced from a vacuum passing through the parametric amplifier are not just strongly nonclassical but actually saturate the bound on the maximum allowed by quantum mechanics. "
   ]
  },
  {
   "cell_type": "code",
   "execution_count": null,
   "id": "eba3fcfd-92f8-4a6c-a048-d4bde0188adf",
   "metadata": {
    "colab": {
     "base_uri": "https://localhost:8080/",
     "height": 369
    },
    "id": "qE7ZYSMxXaeJ",
    "outputId": "f5278a86-915f-4ccd-c595-dc989ef1e6d3"
   },
   "outputs": [],
   "source": [
    "fig, axes = plt.subplots(2, 2, figsize=(8,5))\n",
    "background=1e-30\n",
    "quantities_dict = {\n",
    "  \"g_aa\": [r'$g_{11}^{(2)}(t)$', ((expected_vals_dict[\"ad_ad_a_a\"])/(background**2+expected_vals_dict[\"na\"]**2))], \n",
    "  \"g_bb\": [r'$g_{bb}^{(2)}(t)$', ((expected_vals_dict[\"bd_bd_b_b\"])/(background**2+expected_vals_dict[\"nb\"]**2))],\n",
    "  \"g_ab\": [r'$g_{ab}^{(2)}(t)$', ((expected_vals_dict[\"ad_a_bd_b\"])/(background**2+expected_vals_dict[\"na\"]*expected_vals_dict[\"nb\"]))],\n",
    "  \"g_ab_squared\": [r'$(g_{ab}^{(2)}(t)))^{2}$', ((expected_vals_dict[\"ad_a_bd_b\"])/(background**2+expected_vals_dict[\"na\"]*expected_vals_dict[\"nb\"]))**2]\n",
    "\n",
    "}\n",
    "\n",
    "for idx, (quantity_key, (ylabel, data)) in enumerate(quantities_dict.items()):\n",
    "    line = axes[idx//2, idx%2].plot(tlist, data, 'rx', linewidth=2)\n",
    "    axes[idx//2, idx%2].set_xlabel(\"$t$\", fontsize=plot_fontsize)\n",
    "    axes[idx//2, idx%2].set_xlim(1, 20) # \n",
    "    axes[idx//2, idx%2].set_ylabel(ylabel, fontsize=plot_fontsize)\n",
    "#    axes[idx//2, idx%2].set_yscale(\"log\")\n",
    "\n",
    "\n",
    "fig.tight_layout()\n"
   ]
  },
  {
   "cell_type": "markdown",
   "id": "6a523f6c",
   "metadata": {},
   "source": [
    "## Sources and further reading\n",
    "\n",
    "\n",
    "* [Review Article](https://doi.org/10.1080/00107514.2018.1488463)\n",
    "* [HC Photonics PPLN GUIDE: Overview](https://www.hcphotonics.com/ppln-guide-overview)\n",
    "* [quED Manual](https://www.qutools.com/files/quED/quED_manual.pdf)\n",
    "* Saleh and Teich, *Fundamentals of Photonics*\n",
    "* [Bocquillon et al, PRA 79 035801 (200p](http://dx.doi.org/10.1103/PhysRevA.79.035801\n",
    "* [Razavi et al, JPhysB 42 114013 (2009)](http://stacks.iop.org/JPhysB/42/114013)\n",
    "* [Thorn et al, Am Jo of Phys 72, 1210-1219 (2004)](https://aapt.scitation.org/doi/10.1119/1.1737397)\n",
    "* quTools HBT manual: https://www.qutools.com/files/quED/quED-HBT/quED-HBT-manual.pdf\n",
    "* quTools secret HBT manual: https://www.qutools.com/files/quED/worksheets/qutools_HBT.pdf\n",
    "* [M. Beck, J. Opt. Soc. Am. B 24, 2972-2978 (2007)]https://opg.optica.org/josab/abstract.cfm?URI=josab-24-12-2972\n",
    "* Loudon, *The Quantum Theory of Light*\n",
    "* Fox, *Quantum Optics: An Introduction*\n",
    "* Gerry and Knight, *Introductory Quantum Optics*"
   ]
  },
  {
   "cell_type": "markdown",
   "id": "ea0add6a",
   "metadata": {},
   "source": [
    "## Pre-Lab Questions\n",
    "\n",
    "Before coming to the lab for the HBT experiment, please complete these pre-lab questions and be ready to *show your work*. If you have questions, ask the instructor before starting the lab.\n",
    "\n",
    "1. What is $\\gtwo(0)$ for a number state with 2 photons? What about with 3 photons? Generalize this to Fock state $\\ket{n}$ with n photons and plot $\\gtwo(0)$ as a function of n.\n",
    "1. What is $\\gtwo(0)$ for a coherent state $\\ket{\\alpha}$?\n",
    "1. *Bonus* Consider the case of a 50-50 beamsplitter with inputs $\\ahat$ and $\\bhat$ and outputs $\\chat$ and $\\dhat$. $\\ahat$ is in the $\\ket{1}$ state while $\\bhat$ is in the vacuum state. Find the variance of the coincidences $\\chat$ and $\\dhat$ where the variance of an operator $\\hat{o}$ is given by  $\\langle(\\Delta\\hat{o})^2\\rangle = \\langle\\hat{o}^2\\rangle -\\langle\\hat{o}\\rangle^2$."
   ]
  }
 ],
 "metadata": {
  "celltoolbar": "Tags",
  "kernelspec": {
   "display_name": "Python 3 (ipykernel)",
   "language": "python",
   "name": "python3"
  },
  "language_info": {
   "codemirror_mode": {
    "name": "ipython",
    "version": 3
   },
   "file_extension": ".py",
   "mimetype": "text/x-python",
   "name": "python",
   "nbconvert_exporter": "python",
   "pygments_lexer": "ipython3",
   "version": "3.11.0"
  },
  "widgets": {
   "application/vnd.jupyter.widget-state+json": {
    "state": {},
    "version_major": 2,
    "version_minor": 0
   }
  }
 },
 "nbformat": 4,
 "nbformat_minor": 5
}
