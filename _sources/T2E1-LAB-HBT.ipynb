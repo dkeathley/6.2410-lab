{
 "cells": [
  {
   "cell_type": "markdown",
   "id": "66104312",
   "metadata": {},
   "source": [
    "# LAB -- Hanbury Brown - Twiss Lab (Week 1)\n",
    "\n",
    "## Introduction\n",
    "In this lab we're going to perform the Hanbury Brown - Twiss (HBT) experiment with the quED set-up. We want to perform the measurements and also understand what they mean in terms of the calculations. This entire lab will take less than 2 sessions of the course, and it will help prepare you for performing the QKD protocol over the following 2 sessions.\n",
    "\n",
    "This write-up will cover a few topics:\n",
    "* [Lab Goals](#Goals-for-this-lab) are your guidance for what this experiment will accomplish. Your write-up should address all of these.\n",
    "* [Coincidence Estimate](#Estimate-coincidence-count-for-uncorrelated-sources) is an important calculation to do so you can make sure you're measuring what you expect. It will also be an example of relating a measured experimental to a theoretical calculation.\n",
    "* [quED power up](#quED-power-up) describes how to turn on the quED to begin taking data.\n",
    "* [Experimental set-up: 2-fold](#HBT-with-2-fold-coincidence) gives an overview on how to perform the 2-fold experiment. There is a [Python cell](#g2code2fold) for you to input your experimental measurements and find $g^{(2)}(0)$\n",
    "* [Experimental set-up: 3-fold](#HBT-for-heralded-source-(3-fold-coincidence)) gives an overview on how to perform the 3-fold experiment. There is a [Python cell](#g2code3fold) for you to input your experimental measurements and find $g^{(2)}(0)$\n",
    "\n",
    "\n",
    "We'll be following the quTools manual, which you can find online here: https://www.qutools.com/files/quED/quED-HBT/quED-HBT-manual.pdf\n"
   ]
  },
  {
   "cell_type": "markdown",
   "id": "807d02c0",
   "metadata": {},
   "source": [
    "## Goals for this lab\n",
    "\n",
    "In this lab, we have a few goals:\n",
    "\n",
    "1. Measure $g^{(2)}(0)$ for the SPDC output in the heralded and un-heralded regimes. You will need to take enough points to find both an average and a standard deviation. How did you choose which integration time to use?\n",
    "1. Compare $g^{(2)}(0)$ measurements for different pump laser currents: 10 mA, 25 mA, and 40 mA. Again, make sure you take enough data points to find the variance.\n",
    "1. Compare your experimental results with what you calculated. How did your calculations match your measurements? Why do you think they were different? \n",
    "1. Use the $g^{(2)}(0)$ measurements to categorize when the SPDC output counts as a single photon source. Consider whether you would classify the light source as being in a number state, coherent state, or thermal state.\n",
    "\n",
    "Keep in mind that you will need to address all of these points above in your 2-3 page write-up at the end of this T2E1 lab sequence.  It is then important we address these issues properly during lab time. Also remember that everyone is expected to keep notes during the lab, and you should include collected data, code, and analysis in those notes.  The instructions you're reading right now are meant to guide you through taking the data and looking at some of the data analysis."
   ]
  },
  {
   "cell_type": "markdown",
   "id": "e418d361",
   "metadata": {},
   "source": [
    "## Estimate coincidence count for uncorrelated sources\n",
    "\n",
    "If I said I have two sources of light that are totally independent, what would you estimate the coincidences to be? You have access to the following values:\n",
    "\n",
    "* The singles count of each source of light (read off the quCR)\n",
    "* The coincidence window (30 ns)\n",
    "* Integration time (set on quCR)\n",
    "\n",
    "Use the next cell to evaluate your estimate of coincidents."
   ]
  },
  {
   "cell_type": "code",
   "execution_count": 12,
   "id": "0591f4e8",
   "metadata": {},
   "outputs": [
    {
     "data": {
      "text/plain": [
       "'Coincidences: -1.000e+00 with singles 5.000e+04 and 5.000e+04 after 1.0 seconds'"
      ]
     },
     "execution_count": 12,
     "metadata": {},
     "output_type": "execute_result"
    }
   ],
   "source": [
    "import numpy as np\n",
    "\n",
    "S1 = 5E4 # units cps\n",
    "S2 = 5E4 # units cps\n",
    "cw = 30E-9 # set by qutools as 30 ns\n",
    "inttime = 1 # default to 1 second\n",
    "\n",
    "def accidentals(S1,S2,cw,inttime):\n",
    "    it = -1\n",
    "    \n",
    "    return it\n",
    "\n",
    "it = accidentals(S1,S2,cw,inttime)\n",
    "\n",
    "'Coincidences: {:.3e} with singles {:.3e} and {:.3e} after {:.1f} seconds'.format(it, S1, S2, inttime)"
   ]
  },
  {
   "cell_type": "markdown",
   "id": "2659ff89",
   "metadata": {},
   "source": [
    "Does your estimate match what you see? You can use the light collected from the overhead lamps as uncorrelated light."
   ]
  },
  {
   "cell_type": "markdown",
   "id": "61a659c6",
   "metadata": {},
   "source": [
    "## quED power up\n",
    "\n",
    "If the screen is dark on the quED, flip the plastic switch on the bottom left corner of the front panel.\n",
    "\n",
    "To turn on the laser, verify that the set current is 0 mA. Then press the button to the right of the screen on the front panel. It will light up when the laser is active.\n",
    "\n",
    "Now, verify the laser is in CW mode and turn the pump current to 35 - 40 mA.\n",
    "\n",
    "Next, check the singles counts. You should see about 100,000 cps from the signal and the idler. The coincidence counts should be on the order of 5,000 to 10,000.\n",
    "\n",
    "### Troubleshooting low counts\n",
    "\n",
    "If you see fewer counts - say 20% below the maximum - try adjusting the mounts with the lenses that collect the SPDC output light into fibers.\n",
    "\n",
    "If that doesn't work **or** you see severely reduced counts, try walking the beam using the mounts with the mirrors. If this is your first time aligning the quED this way, ask an instructor to help.\n",
    "\n",
    "If that doesn't work, ask an instructor to show you the full alignment procedure. You'll use a fiber fault finder to back propagate into the box with the source."
   ]
  },
  {
   "cell_type": "markdown",
   "id": "80a7cb8e",
   "metadata": {},
   "source": [
    "## HBT with 2-fold coincidence\n",
    "\n",
    "Recall that the HBT experiment has the follow schematic:\n",
    "\n",
    ":::{figure-md} HBT_lab\n",
    "<img src=\"FIGURES/quED/HBT_lab.png\" width=\"600\">\n",
    "\n",
    "Setup for HBT measurement.\n",
    ":::\n",
    "\n",
    "We want to set that up with the quED. quTools provides the following cartoon:\n",
    "\n",
    ":::{figure-md} HBT_lab\n",
    "<img src=\"FIGURES/quED/HBT_lab_qutools.png\" width=\"600\">\n",
    "\n",
    "Image from quTools of the HBT experiment with quED\n",
    ":::\n",
    "\n",
    "You can read off the singles and coincidences from the quED detection page directly. The detection page will scroll through a time plot, the settings page, and another page that will display a numerical value for the singles and coincidences after each integration time. You can also use the Python wrapper function to read the detected values directly from the quED.\n"
   ]
  },
  {
   "cell_type": "markdown",
   "id": "b3e78b29",
   "metadata": {},
   "source": [
    "### Calculating $g^{(2)}(0)$ from experimental data\n",
    "\n",
    "Recall that the equation for $g^{(2)}(0)$ is\n",
    "\n",
    "$$g^{(2)}(0) = \\frac{\\langle\\hat{n}_1\\hat{n}_2\\rangle}{\\langle\\hat{n}_1\\rangle\\langle\\hat{n}_2\\rangle}$$\n",
    "\n",
    "You'll note that this equation has nothing to do with the coincidence window $\\Delta_w$, but consider the following thought experiment. Keeping integration time $T$ constant, you look at coincidences $\\langle\\hat{n}_1\\hat{n}_2\\rangle$ using an infinitely long coincidence window and then you perform the same measurement at an infinitely small but still nonzero coincidence window. Do you expect to see more coincidences on the long or short window? Thus, coincidence windows do matter in terms of scaling for $g^{(2)}(0)$.\n",
    "\n",
    "For this reason, we want to look at the calculation in a slightly different way. Specifically, consider that the calculation asks for the expected value of the coincidences and singles. What we measure are the rates, $R_i$ of the singles and coincidences, expressed in counts per second (cps). That means that to find a probability, $p_i$, within a given coincidence time, $\\Delta_w$, we need to consider\n",
    "\n",
    "$$p_i = R_i\\Delta_w$$\n",
    "\n",
    "We can consider the cases were $i$ refers to $1$, $2$, and $12$, so if we want to look at the expected value in terms of the measured values, we want to evaluate\n",
    "\n",
    "$$g^{(2)}(0) = \\frac{R_{12}}{R_1R_2\\Delta_w}$$\n",
    "\n",
    "The next cell is provided for you to input your own code to calculate $g^{(2)}(0)$ from your experimental values. <a id=\"g2code2fold\"></a>"
   ]
  },
  {
   "cell_type": "code",
   "execution_count": 21,
   "id": "02cc7388",
   "metadata": {},
   "outputs": [
    {
     "data": {
      "text/plain": [
       "'G2: -5.000e+00 with coincidences 1.000e+01; singles 5.000e+04 and 5.000e+04 after 1.0 seconds'"
      ]
     },
     "execution_count": 21,
     "metadata": {},
     "output_type": "execute_result"
    }
   ],
   "source": [
    "# Use this cell to plug in your measured data and get a value for g2\n",
    "\n",
    "S1 = 5E4 # singles in detector 1 - cps\n",
    "S2 = 5E4 # singles in detector 2 - cps\n",
    "cw = 30E-9 # coincidence window set by qutools as 30 ns\n",
    "\n",
    "coincidences = 10 # coincidences between 1 and 2 per second\n",
    "inttime = 1 # integrationd time: default to 1 second\n",
    "\n",
    "def g2twofold(S1,S2,cw, coincidences, inttime):\n",
    "    it = -5\n",
    "    \n",
    "    return it\n",
    "\n",
    "it = g2twofold(S1,S2,cw, coincidences, inttime)\n",
    "\n",
    "'G2: {:.3e} with coincidences {:.3e}; singles {:.3e} and {:.3e} after {:.1f} seconds'.format(it, coincidences, S1, S2, inttime)"
   ]
  },
  {
   "cell_type": "markdown",
   "id": "35df8fc6",
   "metadata": {},
   "source": [
    "Remember to take enough measurements to find the average and the standard deviation. Also, look at the effect of changing the integration time and comment in your write-up about how that affects the calculated $g^{(2)}(0)$. How does $g^{(2)}(0)$ change with different pump currents? Would you describe this configuration as a single photon source?"
   ]
  },
  {
   "cell_type": "markdown",
   "id": "34fd04c3",
   "metadata": {},
   "source": [
    "## HBT for heralded source (3-fold coincidence)\n",
    "\n",
    "As you recall, we want to modify the HBT experiment to look at the HBT experiment with a *heralded* single photon source, as shown below. \n",
    "\n",
    ":::{figure-md} HBT_lab\n",
    "<img src=\"FIGURES/quED/HBT_heralded_lab.png\" width=\"600\">\n",
    "\n",
    "Setup for heralded HBT measurement.\n",
    ":::\n",
    "\n",
    "quTools provides a more detailed schematic of how this experiment will look with the quED.\n",
    ":::{figure-md} HBT_lab\n",
    "<img src=\"FIGURES/quED/HBT_heralded_lab_qutools.png\" width=\"600\">\n",
    "\n",
    "Image from quTools of the HBT experiment with heralded source with quED\n",
    ":::\n",
    "\n",
    "You can use the equation from the text to find $g^{(2)}(0)$ for the heralded source:\n",
    "\n",
    "$$g^{(2)}(0) = \\frac{N_{012}N_0}{N_{01}N_{02}}$$\n",
    "\n",
    "Again, the next cell is provided for you to input your own code so you can caluclate your $g^{(2)}(0)$ as you collect data. <a id=\"g2code3fold\"></a>"
   ]
  },
  {
   "cell_type": "code",
   "execution_count": 18,
   "id": "90931c7e",
   "metadata": {},
   "outputs": [
    {
     "data": {
      "text/plain": [
       "'G2: -5.000e-01'"
      ]
     },
     "execution_count": 18,
     "metadata": {},
     "output_type": "execute_result"
    }
   ],
   "source": [
    "# Use this cell to plug in your measured data and get a value for g2\n",
    "\n",
    "N012 = 1E5 # 3-fold coincidences\n",
    "N0 = 5E4 # singles in detector 0 - cps\n",
    "N01 = 5E4 # 2-fold coincidences\n",
    "N02 = 30E-9 # 2-fold coincidences\n",
    "\n",
    "\n",
    "inttime = 1 # integrationd time: default to 1 second\n",
    "\n",
    "def g2threefold(N012,N0,N01,N02,inttime):\n",
    "    it = -0.5\n",
    "    \n",
    "    return it\n",
    "\n",
    "it = g2threefold(N012,N0,N01,N02,inttime)\n",
    "\n",
    "'G2: {:.3e}'.format(it)"
   ]
  },
  {
   "cell_type": "markdown",
   "id": "05e00298",
   "metadata": {},
   "source": [
    "Again, don't forget to explore how $g^{(2)}(0)$ changes when you change your pump current. Remember to see how integration time affects your measurements, and find the mean and standard deviation."
   ]
  }
 ],
 "metadata": {
  "kernelspec": {
   "display_name": "Python 3 (ipykernel)",
   "language": "python",
   "name": "python3"
  },
  "language_info": {
   "codemirror_mode": {
    "name": "ipython",
    "version": 3
   },
   "file_extension": ".py",
   "mimetype": "text/x-python",
   "name": "python",
   "nbconvert_exporter": "python",
   "pygments_lexer": "ipython3",
   "version": "3.8.15"
  },
  "widgets": {
   "application/vnd.jupyter.widget-state+json": {
    "state": {},
    "version_major": 2,
    "version_minor": 0
   }
  }
 },
 "nbformat": 4,
 "nbformat_minor": 5
}
